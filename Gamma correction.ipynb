{
 "cells": [
  {
   "cell_type": "markdown",
   "metadata": {},
   "source": [
    "# Gamma Correction\n",
    "\n",
    "gamma correction is used for Brightness and contrast adjustments"
   ]
  },
  {
   "cell_type": "markdown",
   "metadata": {},
   "source": [
    "### Formula\n",
    "\n",
    "output_image = input_image^(1/gamma_value)\n",
    "\n",
    "input_image will be normalizes to 0-1\n",
    "\n",
    "gamma_value < 1 darker image \n",
    "\n",
    "gamma_value > 1 lighter image\n",
    "\n",
    "gamma_value = 1 no change"
   ]
  },
  {
   "cell_type": "code",
   "execution_count": 14,
   "metadata": {},
   "outputs": [],
   "source": [
    "import numpy as np\n",
    "import cv2\n",
    "\n",
    "def gamma_correction(image, gamma=1.0):\n",
    "    invGamma = 1.0 / gamma\n",
    "    table = np.array([((i / 255.0) ** invGamma) * 255  for i in np.arange(0, 256)]).astype(\"uint8\")\n",
    "    return cv2.LUT(image, table)"
   ]
  },
  {
   "cell_type": "code",
   "execution_count": 1,
   "metadata": {},
   "outputs": [],
   "source": [
    "# My method\n",
    "import numpy as np\n",
    "import cv2\n",
    "\n",
    "def gamma_correction(image, gamma=1.0):\n",
    "    invGamma = 1.0 / gamma\n",
    "    # Normalising the image to 0-1\n",
    "    image = image/255\n",
    "    # Appling the gamma correction value\n",
    "    image = image ** invGamma\n",
    "    # Converting to RGB image\n",
    "    output_image = np.array(255*image, dtype = 'uint8') \n",
    "    return output_image"
   ]
  },
  {
   "cell_type": "code",
   "execution_count": 2,
   "metadata": {},
   "outputs": [],
   "source": [
    "image = cv2.imread(\"eiffel1.jpeg\")\n",
    "cv2.imshow(\"image\",image)\n",
    "cv2.waitKey(0)\n",
    "cv2.destroyAllWindows()"
   ]
  },
  {
   "cell_type": "code",
   "execution_count": 6,
   "metadata": {},
   "outputs": [],
   "source": [
    "gamma_value = 2\n",
    "gamma_corrected_image = gamma_correction(image,gamma_value)\n",
    "cv2.imshow(\"output\",gamma_corrected_image)\n",
    "cv2.waitKey(0)\n",
    "cv2.destroyAllWindows()"
   ]
  },
  {
   "cell_type": "code",
   "execution_count": null,
   "metadata": {},
   "outputs": [],
   "source": []
  }
 ],
 "metadata": {
  "kernelspec": {
   "display_name": "Python 3",
   "language": "python",
   "name": "python3"
  },
  "language_info": {
   "codemirror_mode": {
    "name": "ipython",
    "version": 3
   },
   "file_extension": ".py",
   "mimetype": "text/x-python",
   "name": "python",
   "nbconvert_exporter": "python",
   "pygments_lexer": "ipython3",
   "version": "3.7.4"
  }
 },
 "nbformat": 4,
 "nbformat_minor": 2
}
