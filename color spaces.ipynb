{
 "cells": [
  {
   "cell_type": "markdown",
   "metadata": {},
   "source": [
    "# What are color spaces?\n",
    "\n",
    "#### Color spaces are different types of color modes, used in image processing and signals and system for various purposes. Some of the common color spaces are:\n",
    "\n",
    "1.  RGB\n",
    "2.  HSV\n",
    "3.  GRAY\n",
    "4.  LUV or LAB \n",
    "\n"
   ]
  },
  {
   "cell_type": "markdown",
   "metadata": {},
   "source": [
    "### RGB (Red Green Blue)\n",
    "\n",
    "The Red Green Blue are the primary colors which can be used to form any other colors.\n",
    "each color has a intensity value range form 0-225"
   ]
  },
  {
   "cell_type": "code",
   "execution_count": 10,
   "metadata": {},
   "outputs": [],
   "source": [
    "import cv2\n",
    "\n",
    "color_image = cv2.imread(\"rgb.jpg\")\n",
    "cv2.imshow(\"color image\",color_image)\n",
    "cv2.waitKey(0)\n",
    "cv2.destroyAllWindows()"
   ]
  },
  {
   "cell_type": "code",
   "execution_count": 11,
   "metadata": {},
   "outputs": [],
   "source": [
    "color_image = cv2.imread(\"rgb.jpg\")\n",
    "red_image = color_image[:,:,0]\n",
    "cv2.imshow(\"Red channel\",red_image)\n",
    "cv2.waitKey(0)\n",
    "cv2.destroyAllWindows()"
   ]
  },
  {
   "cell_type": "code",
   "execution_count": 12,
   "metadata": {},
   "outputs": [],
   "source": [
    "color_image = cv2.imread(\"rgb.jpg\")\n",
    "blue_image = color_image[:,:,2]\n",
    "cv2.imshow(\"Blue channel\",blue_image)\n",
    "cv2.waitKey(0)\n",
    "cv2.destroyAllWindows()"
   ]
  },
  {
   "cell_type": "code",
   "execution_count": 13,
   "metadata": {},
   "outputs": [],
   "source": [
    "color_image = cv2.imread(\"rgb.jpg\")\n",
    "green_image = color_image[:,:,1]\n",
    "cv2.imshow(\"Green channel\",green_image)\n",
    "cv2.waitKey(0)\n",
    "cv2.destroyAllWindows()"
   ]
  },
  {
   "cell_type": "code",
   "execution_count": null,
   "metadata": {},
   "outputs": [],
   "source": []
  },
  {
   "cell_type": "markdown",
   "metadata": {},
   "source": [
    "### HSV (Hue Saturation Value)"
   ]
  },
  {
   "cell_type": "code",
   "execution_count": 16,
   "metadata": {},
   "outputs": [],
   "source": [
    "import cv2\n",
    "\n",
    "color_image = cv2.imread(\"rgb.jpg\")\n",
    "hsv = cv2.cvtColor(color_image, cv2.COLOR_RGB2HSV)\n",
    "cv2.imshow(\"color image\",hsv)\n",
    "cv2.waitKey(0)\n",
    "cv2.destroyAllWindows()"
   ]
  },
  {
   "cell_type": "code",
   "execution_count": 18,
   "metadata": {},
   "outputs": [],
   "source": [
    "color_image = cv2.imread(\"rgb.jpg\")\n",
    "hsv = cv2.cvtColor(color_image, cv2.COLOR_RGB2HSV)\n",
    "hue = hsv[:,:,1]\n",
    "cv2.imshow(\"Hue image\",hue)\n",
    "cv2.waitKey(0)\n",
    "cv2.destroyAllWindows()"
   ]
  },
  {
   "cell_type": "code",
   "execution_count": 19,
   "metadata": {},
   "outputs": [],
   "source": [
    "color_image = cv2.imread(\"rgb.jpg\")\n",
    "hsv = cv2.cvtColor(color_image, cv2.COLOR_RGB2HSV)\n",
    "saturation = hsv[:,:,1]\n",
    "cv2.imshow(\"Saturation image\",saturation)\n",
    "cv2.waitKey(0)\n",
    "cv2.destroyAllWindows()"
   ]
  },
  {
   "cell_type": "code",
   "execution_count": null,
   "metadata": {},
   "outputs": [],
   "source": []
  },
  {
   "cell_type": "markdown",
   "metadata": {},
   "source": [
    "### GRAY scale image\n",
    "\n",
    "to convert rgb image into gray image\n",
    "\n",
    "New grayscale image = ( (0.3 * R) + (0.59 * G) + (0.11 * B) )."
   ]
  },
  {
   "cell_type": "code",
   "execution_count": 22,
   "metadata": {},
   "outputs": [],
   "source": [
    "import cv2\n",
    "\n",
    "color_image = cv2.imread(\"rgb.jpg\")\n",
    "gray = cv2.cvtColor(color_image, cv2.COLOR_RGB2GRAY)\n",
    "cv2.imshow(\"Gray image\",gray)\n",
    "cv2.waitKey(0)\n",
    "cv2.destroyAllWindows()"
   ]
  },
  {
   "cell_type": "code",
   "execution_count": null,
   "metadata": {},
   "outputs": [],
   "source": []
  }
 ],
 "metadata": {
  "kernelspec": {
   "display_name": "Python 3",
   "language": "python",
   "name": "python3"
  },
  "language_info": {
   "codemirror_mode": {
    "name": "ipython",
    "version": 3
   },
   "file_extension": ".py",
   "mimetype": "text/x-python",
   "name": "python",
   "nbconvert_exporter": "python",
   "pygments_lexer": "ipython3",
   "version": "3.7.4"
  }
 },
 "nbformat": 4,
 "nbformat_minor": 2
}
