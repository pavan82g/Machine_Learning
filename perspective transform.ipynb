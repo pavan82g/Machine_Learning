{
 "cells": [
  {
   "cell_type": "code",
   "execution_count": null,
   "metadata": {},
   "outputs": [],
   "source": [
    "import cv2\n",
    "import numpy as np\n",
    "import os"
   ]
  },
  {
   "cell_type": "code",
   "execution_count": null,
   "metadata": {},
   "outputs": [],
   "source": [
    "def transform(pos):\n",
    "# This function is used to find the corners of the object and the dimensions of the object\n",
    "    pts=[]\n",
    "    n=len(pos)\n",
    "    for i in range(n):\n",
    "        pts.append(list(pos[i][0]))\n",
    "\n",
    "    sums={}\n",
    "    diffs={}\n",
    "    tl=tr=bl=br=0\n",
    "    for i in pts:\n",
    "        x=i[0]\n",
    "        y=i[1]\n",
    "        sum=x+y\n",
    "        diff=y-x\n",
    "        sums[sum]=i\n",
    "        diffs[diff]=i\n",
    "    sums=sorted(sums.items())\n",
    "    diffs=sorted(diffs.items())\n",
    "    n=len(sums)\n",
    "    rect=[sums[0][1],diffs[0][1],diffs[n-1][1],sums[n-1][1]]\n",
    "    #   top-left   top-right   bottom-left   bottom-right\n",
    "\n",
    "    h1=np.sqrt((rect[0][0]-rect[2][0])**2 + (rect[0][1]-rect[2][1])**2) #height of left side\n",
    "    h2=np.sqrt((rect[1][0]-rect[3][0])**2 + (rect[1][1]-rect[3][1])**2) #height of right side\n",
    "    h=max(h1,h2)\n",
    "\n",
    "    w1=np.sqrt((rect[0][0]-rect[1][0])**2 + (rect[0][1]-rect[1][1])**2) #width of upper side\n",
    "    w2=np.sqrt((rect[2][0]-rect[3][0])**2 + (rect[2][1]-rect[3][1])**2) #width of lower side\n",
    "    w=max(w1,w2)\n",
    "\n",
    "    return int(w),int(h),rect\n"
   ]
  },
  {
   "cell_type": "code",
   "execution_count": 5,
   "metadata": {},
   "outputs": [],
   "source": [
    "# Reading input\n",
    "img=cv2.imread('/home/tl/Downloads/invoice_images/1/131882.jpeg')\n",
    "\n",
    "# ratio\n",
    "r=500.0 / img.shape[1]\n",
    "dim=(500, int(img.shape[0] * r))\n",
    "\n",
    "# resizeing the image\n",
    "img=cv2.resize(img, dim, interpolation = cv2.INTER_AREA)\n",
    "cv2.imshow('INPUT',img)\n",
    "\n",
    "# Bluring and edge detection\n",
    "gray=cv2.cvtColor(img,cv2.COLOR_BGR2GRAY)\n",
    "gray=cv2.GaussianBlur(gray,(11,11),0)\n",
    "edge=cv2.Canny(gray,100,200)\n",
    "\n",
    "# finding counters ans drawing them on image\n",
    "contours,_ = cv2.findContours(edge.copy(),1,1)\n",
    "cv2.drawContours(img,contours,-1,[0,255,0],2)\n",
    "cv2.imshow('Contours',img)\n",
    "\n",
    "n=len(contours)\n",
    "max_area=0\n",
    "pos=0\n",
    "for i in contours:\n",
    "    area=cv2.contourArea(i)\n",
    "    if area>max_area:\n",
    "        max_area=area\n",
    "        pos=i\n",
    "peri=cv2.arcLength(pos,True)\n",
    "approx=cv2.approxPolyDP(pos,0.02*peri,True)\n",
    "\n",
    "size=img.shape\n",
    "\n",
    "w,h,arr=transform(approx)\n",
    "\n",
    "pts2=np.float32([[0,0],[w,0],[0,h],[w,h]])\n",
    "pts1=np.float32(arr)\n",
    "M=cv2.getPerspectiveTransform(pts1,pts2)\n",
    "dst=cv2.warpPerspective(img,M,(w,h))\n",
    "image=cv2.cvtColor(dst,cv2.COLOR_BGR2GRAY)\n",
    "#image=cv2.adaptiveThreshold(image,255,1,0,11,2)\n",
    "image = cv2.resize(image,(w,h),interpolation = cv2.INTER_AREA)\n",
    "cv2.imshow('OUTPUT',image)\n",
    "cv2.waitKey(0)\n",
    "cv2.destroyAllWindows()"
   ]
  },
  {
   "cell_type": "code",
   "execution_count": null,
   "metadata": {},
   "outputs": [],
   "source": []
  }
 ],
 "metadata": {
  "kernelspec": {
   "display_name": "lnt",
   "language": "python",
   "name": "lnt"
  },
  "language_info": {
   "codemirror_mode": {
    "name": "ipython",
    "version": 3
   },
   "file_extension": ".py",
   "mimetype": "text/x-python",
   "name": "python",
   "nbconvert_exporter": "python",
   "pygments_lexer": "ipython3",
   "version": "3.6.9"
  }
 },
 "nbformat": 4,
 "nbformat_minor": 2
}
