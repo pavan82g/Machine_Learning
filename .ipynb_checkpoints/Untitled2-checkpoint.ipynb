{
 "cells": [
  {
   "cell_type": "code",
   "execution_count": 13,
   "metadata": {
    "scrolled": true
   },
   "outputs": [
    {
     "name": "stdout",
     "output_type": "stream",
     "text": [
      "Collecting fpdf\n",
      "  Downloading https://files.pythonhosted.org/packages/37/c6/608a9e6c172bf9124aa687ec8b9f0e8e5d697d59a5f4fad0e2d5ec2a7556/fpdf-1.7.2.tar.gz\n",
      "Building wheels for collected packages: fpdf\n",
      "  Building wheel for fpdf (setup.py): started\n",
      "  Building wheel for fpdf (setup.py): finished with status 'done'\n",
      "  Created wheel for fpdf: filename=fpdf-1.7.2-py2.py3-none-any.whl size=40725 sha256=6d0a03b2631a9a3203511ec95f6c0790c446cb2070ef48feabcd8d5acb5c900a\n",
      "  Stored in directory: C:\\Users\\asus\\AppData\\Local\\pip\\Cache\\wheels\\9a\\e9\\77\\4554ff5c99bc3f487c8d69620d8c41d99d54e9c54ab20ef4c9\n",
      "Successfully built fpdf\n",
      "Installing collected packages: fpdf\n",
      "Successfully installed fpdf-1.7.2\n"
     ]
    }
   ],
   "source": [
    "!pip install fpdf"
   ]
  },
  {
   "cell_type": "code",
   "execution_count": 2,
   "metadata": {},
   "outputs": [],
   "source": [
    "import os\n",
    "\n",
    "from tempfile import NamedTemporaryFile\n",
    "\n",
    "from InvoiceGenerator.api import Invoice, Item, Client, Provider, Creator\n",
    "\n",
    "# choose english as language\n",
    "os.environ[\"INVOICE_LANG\"] = \"en\"\n",
    "\n",
    "client = Client('Client company')\n",
    "provider = Provider('My company', bank_account='2600420569', bank_code='2010')\n",
    "creator = Creator('John Doe')\n",
    "\n",
    "invoice = Invoice(client, provider, creator)\n",
    "invoice.currency_locale = 'en_US.UTF-8'\n",
    "invoice.add_item(Item(32, 600, description=\"Item 1\"))\n",
    "invoice.add_item(Item(60, 50, description=\"Item 2\", tax=21))\n",
    "invoice.add_item(Item(50, 60, description=\"Item 3\", tax=0))\n",
    "invoice.add_item(Item(5, 600, description=\"Item 4\", tax=15))"
   ]
  },
  {
   "cell_type": "code",
   "execution_count": 3,
   "metadata": {},
   "outputs": [],
   "source": [
    "from InvoiceGenerator.pdf import SimpleInvoice\n",
    "\n",
    "pdf = SimpleInvoice(invoice)\n",
    "pdf.gen(\"invoice.pdf\", generate_qr_code=True)"
   ]
  },
  {
   "cell_type": "code",
   "execution_count": 6,
   "metadata": {},
   "outputs": [],
   "source": [
    "def generate_invoice_number(invoice_id, user_id):\n",
    "    new_id = \"\"\n",
    "    d = datetime.date.today()\n",
    "    new_id += d.strftime(\"%Y%m%d\")\n",
    "    new_id += \"-\"\n",
    "    new_id += str(user_id)\n",
    "    new_id += \"-\"\n",
    "    new_id += str(invoice_id)\n",
    "    return new_id"
   ]
  },
  {
   "cell_type": "code",
   "execution_count": null,
   "metadata": {},
   "outputs": [],
   "source": [
    "d1 = today.strftime(\"%d/%m/%Y\")"
   ]
  },
  {
   "cell_type": "code",
   "execution_count": 3,
   "metadata": {},
   "outputs": [
    {
     "data": {
      "text/plain": [
       "'20200529'"
      ]
     },
     "execution_count": 3,
     "metadata": {},
     "output_type": "execute_result"
    }
   ],
   "source": [
    "import datetime\n",
    "d = datetime.date.today()\n",
    "d.strftime(\"%Y%m%d\")"
   ]
  },
  {
   "cell_type": "code",
   "execution_count": 7,
   "metadata": {},
   "outputs": [
    {
     "data": {
      "text/plain": [
       "'20200529-345-32'"
      ]
     },
     "execution_count": 7,
     "metadata": {},
     "output_type": "execute_result"
    }
   ],
   "source": [
    "generate_invoice_number(32,345)"
   ]
  },
  {
   "cell_type": "code",
   "execution_count": 10,
   "metadata": {},
   "outputs": [],
   "source": [
    "import os\n",
    "import pdfrw\n",
    "\n",
    "\n",
    "INVOICE_TEMPLATE_PATH = 'invoice_template.pdf'\n",
    "INVOICE_OUTPUT_PATH = 'invoice.pdf'\n",
    "\n",
    "\n",
    "ANNOT_KEY = '/Annots'\n",
    "ANNOT_FIELD_KEY = '/T'\n",
    "ANNOT_VAL_KEY = '/V'\n",
    "ANNOT_RECT_KEY = '/Rect'\n",
    "SUBTYPE_KEY = '/Subtype'\n",
    "WIDGET_SUBTYPE_KEY = '/Widget'\n",
    "\n",
    "\n",
    "def write_fillable_pdf(input_pdf_path, output_pdf_path, data_dict):\n",
    "    template_pdf = pdfrw.PdfReader(input_pdf_path)\n",
    "    annotations = template_pdf.pages[0][ANNOT_KEY]\n",
    "    for annotation in annotations:\n",
    "        if annotation[SUBTYPE_KEY] == WIDGET_SUBTYPE_KEY:\n",
    "            if annotation[ANNOT_FIELD_KEY]:\n",
    "                key = annotation[ANNOT_FIELD_KEY][1:-1]\n",
    "                if key in data_dict.keys():\n",
    "                    annotation.update(\n",
    "                        pdfrw.PdfDict(V='{}'.format(data_dict[key]))\n",
    "                    )\n",
    "    pdfrw.PdfWriter().write(output_pdf_path, template_pdf)\n",
    "\n",
    "\n",
    "data_dict = {\n",
    "   'business_name_1': 'Bostata',\n",
    "   'customer_name': 'company.io',\n",
    "   'customer_email': 'joe@company.io',\n",
    "   'invoice_number': '102394',\n",
    "   'send_date': '2018-02-13',\n",
    "   'due_date': '2018-03-13',\n",
    "   'note_contents': 'Thank you for your business, Joe',\n",
    "   'item_1': 'Data consulting services',\n",
    "   'item_1_quantity': '10 hours',\n",
    "   'item_1_price': '$200/hr',\n",
    "   'item_1_amount': '$2000',\n",
    "   'subtotal': '$2000',\n",
    "   'tax': '0',\n",
    "   'discounts': '0',\n",
    "   'total': '$2000',\n",
    "   'business_name_2': 'Bostata LLC',\n",
    "   'business_email_address': 'hi@bostata.com',\n",
    "   'business_phone_number': '(617) 930-4294'\n",
    "}"
   ]
  },
  {
   "cell_type": "code",
   "execution_count": 11,
   "metadata": {},
   "outputs": [],
   "source": [
    "write_fillable_pdf(INVOICE_TEMPLATE_PATH, INVOICE_OUTPUT_PATH, data_dict)"
   ]
  },
  {
   "cell_type": "code",
   "execution_count": 25,
   "metadata": {},
   "outputs": [],
   "source": [
    "# from fpdf import FPDF, HTMLMixin\n",
    "# class HTML2PDF(FPDF, HTMLMixin):\n",
    "#     pass\n",
    "# def html2pdf():\n",
    "#     data = \"pavan\"\n",
    "#     html = '''<h1 align=\"center\">PyFPDF HTML Demo</h1>\n",
    "#     <p>Name:'''+data+'''</p>\n",
    "#     <p>You can also <b>bold</b>, <i>italicize</i> or <u>underline</u>\n",
    "#     '''\n",
    "#     pdf = HTML2PDF()\n",
    "#     pdf.add_page()\n",
    "#     pdf.write_html(html)\n",
    "#     pdf.output('html2pdf.pdf')\n",
    "from fpdf import FPDF, HTMLMixin\n",
    "class HTML2PDF(FPDF, HTMLMixin):\n",
    "    pass\n",
    "def html2pdf():\n",
    "    data = \"pavan\"\n",
    "    html = '''<div style='float: left;'><img src='eiffel1.jpeg' ></div>\n",
    "    <div style='float: right;'><h2style='float: right;'>Name</h2><h4>MBBS Doctor</h4></div>'''\n",
    "    pdf = HTML2PDF()\n",
    "    pdf.add_page()\n",
    "    pdf.write_html(html)\n",
    "    pdf.output('html2pdf.pdf')"
   ]
  },
  {
   "cell_type": "code",
   "execution_count": 26,
   "metadata": {},
   "outputs": [],
   "source": [
    "html2pdf()\n"
   ]
  },
  {
   "cell_type": "code",
   "execution_count": null,
   "metadata": {},
   "outputs": [],
   "source": []
  }
 ],
 "metadata": {
  "kernelspec": {
   "display_name": "Python 3",
   "language": "python",
   "name": "python3"
  },
  "language_info": {
   "codemirror_mode": {
    "name": "ipython",
    "version": 3
   },
   "file_extension": ".py",
   "mimetype": "text/x-python",
   "name": "python",
   "nbconvert_exporter": "python",
   "pygments_lexer": "ipython3",
   "version": "3.7.4"
  }
 },
 "nbformat": 4,
 "nbformat_minor": 2
}
