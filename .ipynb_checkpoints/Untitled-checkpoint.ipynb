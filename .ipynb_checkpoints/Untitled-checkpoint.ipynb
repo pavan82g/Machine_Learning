{
 "cells": [
  {
   "cell_type": "code",
   "execution_count": 2,
   "metadata": {},
   "outputs": [],
   "source": [
    "import numpy as np\n",
    "import cv2\n",
    "\n",
    "cap = cv2.VideoCapture(r\"C:\\Users\\asus\\Videos\\cat (1).mp4\")\n",
    "\n",
    "while(True):\n",
    "    # Capture frame-by-frame\n",
    "    ret, frame_read = cap.read()\n",
    "    frame = frame_read[700:1000, 300:950]\n",
    "    # Our operations on the frame come here\n",
    "    gray = cv2.cvtColor(frame, cv2.COLOR_BGR2GRAY)\n",
    "\n",
    "    # Display the resulting frame\n",
    "    cv2.imshow('frame full',frame_read)\n",
    "    cv2.imshow('frame',gray)\n",
    "    if cv2.waitKey(0) & 0xFF == ord('q'):\n",
    "        break\n",
    "\n",
    "# When everything done, release the capture\n",
    "cap.release()\n",
    "cv2.destroyAllWindows()"
   ]
  },
  {
   "cell_type": "code",
   "execution_count": 1,
   "metadata": {},
   "outputs": [
    {
     "name": "stdout",
     "output_type": "stream",
     "text": [
      "712\n"
     ]
    },
    {
     "ename": "FileNotFoundError",
     "evalue": "[Errno 2] No such file or directory: 'C:\\\\Users\\\\asus\\\\Videos\\\\plants\\\\anno\\\\ \\\\p0.json'",
     "output_type": "error",
     "traceback": [
      "\u001b[1;31m---------------------------------------------------------------------------\u001b[0m",
      "\u001b[1;31mFileNotFoundError\u001b[0m                         Traceback (most recent call last)",
      "\u001b[1;32m<ipython-input-1-988c52870c3f>\u001b[0m in \u001b[0;36m<module>\u001b[1;34m\u001b[0m\n\u001b[0;32m      6\u001b[0m \u001b[1;33m\u001b[0m\u001b[0m\n\u001b[0;32m      7\u001b[0m \u001b[1;32mfor\u001b[0m \u001b[0mfiles\u001b[0m \u001b[1;32min\u001b[0m \u001b[0mdestination\u001b[0m\u001b[1;33m:\u001b[0m\u001b[1;33m\u001b[0m\u001b[1;33m\u001b[0m\u001b[0m\n\u001b[1;32m----> 8\u001b[1;33m     \u001b[0mshutil\u001b[0m\u001b[1;33m.\u001b[0m\u001b[0mcopy\u001b[0m\u001b[1;33m(\u001b[0m\u001b[0mfiles\u001b[0m\u001b[1;33m,\u001b[0m\u001b[1;34mr\"C:\\Users\\asus\\Videos\\plants\\anno\\ \"\u001b[0m\u001b[1;33m)\u001b[0m\u001b[1;33m\u001b[0m\u001b[1;33m\u001b[0m\u001b[0m\n\u001b[0m\u001b[0;32m      9\u001b[0m     \u001b[0mshutil\u001b[0m\u001b[1;33m.\u001b[0m\u001b[0mcopy\u001b[0m\u001b[1;33m(\u001b[0m\u001b[1;34mr\"C:\\Users\\asus\\Videos\\plants\\new_images\\ \"\u001b[0m\u001b[1;33m+\u001b[0m\u001b[0mstr\u001b[0m\u001b[1;33m(\u001b[0m\u001b[0mos\u001b[0m\u001b[1;33m.\u001b[0m\u001b[0mpath\u001b[0m\u001b[1;33m.\u001b[0m\u001b[0mbasename\u001b[0m\u001b[1;33m(\u001b[0m\u001b[0mfiles\u001b[0m\u001b[1;33m)\u001b[0m\u001b[1;33m.\u001b[0m\u001b[0mreplace\u001b[0m\u001b[1;33m(\u001b[0m\u001b[1;34m'.json'\u001b[0m\u001b[1;33m,\u001b[0m\u001b[1;34m''\u001b[0m\u001b[1;33m)\u001b[0m\u001b[1;33m)\u001b[0m\u001b[1;33m+\u001b[0m\u001b[1;34m'.jpg'\u001b[0m\u001b[1;33m,\u001b[0m\u001b[1;34mr\"C:\\Users\\asus\\Videos\\plants\\anno\\ \"\u001b[0m\u001b[1;33m)\u001b[0m\u001b[1;33m\u001b[0m\u001b[1;33m\u001b[0m\u001b[0m\n",
      "\u001b[1;32mC:\\ProgramData\\Anaconda3\\lib\\shutil.py\u001b[0m in \u001b[0;36mcopy\u001b[1;34m(src, dst, follow_symlinks)\u001b[0m\n\u001b[0;32m    246\u001b[0m     \u001b[1;32mif\u001b[0m \u001b[0mos\u001b[0m\u001b[1;33m.\u001b[0m\u001b[0mpath\u001b[0m\u001b[1;33m.\u001b[0m\u001b[0misdir\u001b[0m\u001b[1;33m(\u001b[0m\u001b[0mdst\u001b[0m\u001b[1;33m)\u001b[0m\u001b[1;33m:\u001b[0m\u001b[1;33m\u001b[0m\u001b[1;33m\u001b[0m\u001b[0m\n\u001b[0;32m    247\u001b[0m         \u001b[0mdst\u001b[0m \u001b[1;33m=\u001b[0m \u001b[0mos\u001b[0m\u001b[1;33m.\u001b[0m\u001b[0mpath\u001b[0m\u001b[1;33m.\u001b[0m\u001b[0mjoin\u001b[0m\u001b[1;33m(\u001b[0m\u001b[0mdst\u001b[0m\u001b[1;33m,\u001b[0m \u001b[0mos\u001b[0m\u001b[1;33m.\u001b[0m\u001b[0mpath\u001b[0m\u001b[1;33m.\u001b[0m\u001b[0mbasename\u001b[0m\u001b[1;33m(\u001b[0m\u001b[0msrc\u001b[0m\u001b[1;33m)\u001b[0m\u001b[1;33m)\u001b[0m\u001b[1;33m\u001b[0m\u001b[1;33m\u001b[0m\u001b[0m\n\u001b[1;32m--> 248\u001b[1;33m     \u001b[0mcopyfile\u001b[0m\u001b[1;33m(\u001b[0m\u001b[0msrc\u001b[0m\u001b[1;33m,\u001b[0m \u001b[0mdst\u001b[0m\u001b[1;33m,\u001b[0m \u001b[0mfollow_symlinks\u001b[0m\u001b[1;33m=\u001b[0m\u001b[0mfollow_symlinks\u001b[0m\u001b[1;33m)\u001b[0m\u001b[1;33m\u001b[0m\u001b[1;33m\u001b[0m\u001b[0m\n\u001b[0m\u001b[0;32m    249\u001b[0m     \u001b[0mcopymode\u001b[0m\u001b[1;33m(\u001b[0m\u001b[0msrc\u001b[0m\u001b[1;33m,\u001b[0m \u001b[0mdst\u001b[0m\u001b[1;33m,\u001b[0m \u001b[0mfollow_symlinks\u001b[0m\u001b[1;33m=\u001b[0m\u001b[0mfollow_symlinks\u001b[0m\u001b[1;33m)\u001b[0m\u001b[1;33m\u001b[0m\u001b[1;33m\u001b[0m\u001b[0m\n\u001b[0;32m    250\u001b[0m     \u001b[1;32mreturn\u001b[0m \u001b[0mdst\u001b[0m\u001b[1;33m\u001b[0m\u001b[1;33m\u001b[0m\u001b[0m\n",
      "\u001b[1;32mC:\\ProgramData\\Anaconda3\\lib\\shutil.py\u001b[0m in \u001b[0;36mcopyfile\u001b[1;34m(src, dst, follow_symlinks)\u001b[0m\n\u001b[0;32m    119\u001b[0m     \u001b[1;32melse\u001b[0m\u001b[1;33m:\u001b[0m\u001b[1;33m\u001b[0m\u001b[1;33m\u001b[0m\u001b[0m\n\u001b[0;32m    120\u001b[0m         \u001b[1;32mwith\u001b[0m \u001b[0mopen\u001b[0m\u001b[1;33m(\u001b[0m\u001b[0msrc\u001b[0m\u001b[1;33m,\u001b[0m \u001b[1;34m'rb'\u001b[0m\u001b[1;33m)\u001b[0m \u001b[1;32mas\u001b[0m \u001b[0mfsrc\u001b[0m\u001b[1;33m:\u001b[0m\u001b[1;33m\u001b[0m\u001b[1;33m\u001b[0m\u001b[0m\n\u001b[1;32m--> 121\u001b[1;33m             \u001b[1;32mwith\u001b[0m \u001b[0mopen\u001b[0m\u001b[1;33m(\u001b[0m\u001b[0mdst\u001b[0m\u001b[1;33m,\u001b[0m \u001b[1;34m'wb'\u001b[0m\u001b[1;33m)\u001b[0m \u001b[1;32mas\u001b[0m \u001b[0mfdst\u001b[0m\u001b[1;33m:\u001b[0m\u001b[1;33m\u001b[0m\u001b[1;33m\u001b[0m\u001b[0m\n\u001b[0m\u001b[0;32m    122\u001b[0m                 \u001b[0mcopyfileobj\u001b[0m\u001b[1;33m(\u001b[0m\u001b[0mfsrc\u001b[0m\u001b[1;33m,\u001b[0m \u001b[0mfdst\u001b[0m\u001b[1;33m)\u001b[0m\u001b[1;33m\u001b[0m\u001b[1;33m\u001b[0m\u001b[0m\n\u001b[0;32m    123\u001b[0m     \u001b[1;32mreturn\u001b[0m \u001b[0mdst\u001b[0m\u001b[1;33m\u001b[0m\u001b[1;33m\u001b[0m\u001b[0m\n",
      "\u001b[1;31mFileNotFoundError\u001b[0m: [Errno 2] No such file or directory: 'C:\\\\Users\\\\asus\\\\Videos\\\\plants\\\\anno\\\\ \\\\p0.json'"
     ]
    }
   ],
   "source": [
    "import shutil\n",
    "import os\n",
    "import glob\n",
    "destination = glob.glob(r\"C:\\Users\\asus\\Videos\\plants\\new_images\\*.json\")\n",
    "print(len(destination))\n",
    "\n",
    "for files in destination:\n",
    "    shutil.copy(files,r\"C:\\Users\\asus\\Videos\\plants\\anno \")\n",
    "    shutil.copy(r\"C:\\Users\\asus\\Videos\\plants\\new_images\\ \"+str(os.path.basename(files).replace('.json',''))+'.jpg',r\"C:\\Users\\asus\\Videos\\plants\\anno \")"
   ]
  },
  {
   "cell_type": "code",
   "execution_count": 1,
   "metadata": {},
   "outputs": [],
   "source": [
    "import numpy as np\n",
    "import cv2\n",
    "import glob\n",
    "\n",
    "i=0\n",
    "for path in glob.glob(r\"C:\\Users\\asus\\Videos\\plants\\new_videos\\*.mp4\"):\n",
    "\n",
    "    cap = cv2.VideoCapture(path)\n",
    "    count = 0\n",
    "    while(True):\n",
    "        ret, frame = cap.read()\n",
    "        if ret != True:\n",
    "            break\n",
    "        if count % 3 == 0:  \n",
    "            cv2.imwrite(r\"C:\\Users\\asus\\Videos\\plants\\new_images\\p\" + str(i) + \".jpg\",frame)\n",
    "            i += 1\n",
    "        count += 1\n",
    "        if cv2.waitKey(1) & 0xFF == ord('q'):\n",
    "            break\n",
    "\n",
    "# When everything done, release the capture\n",
    "cap.release()\n",
    "cv2.destroyAllWindows()"
   ]
  },
  {
   "cell_type": "code",
   "execution_count": null,
   "metadata": {},
   "outputs": [
    {
     "name": "stdout",
     "output_type": "stream",
     "text": [
      "n\n",
      "y\n",
      "\n"
     ]
    }
   ],
   "source": [
    "import glob\n",
    "import os\n",
    "import cv2\n",
    "\n",
    "not_req = []\n",
    "\n",
    "for img in glob.glob(r\"C:\\Users\\asus\\Videos\\barrier_images\\*.jpg\"):\n",
    "    image = cv2.imread(img)\n",
    "    image = image[700:1000, 1600:1920]\n",
    "    cv2.imshow(\"image\",image)\n",
    "    val = input()\n",
    "    if val == \"y\":\n",
    "        not_req.append(img)\n",
    "    cv2.waitKey(0)\n",
    "\n",
    "cv2.destroyAllWindows()"
   ]
  },
  {
   "cell_type": "code",
   "execution_count": null,
   "metadata": {},
   "outputs": [],
   "source": [
    "cv2.destroyAllWindows()"
   ]
  },
  {
   "cell_type": "code",
   "execution_count": 3,
   "metadata": {},
   "outputs": [],
   "source": [
    "import glob\n",
    "import os\n",
    "import cv2\n",
    "\n",
    "not_req = []\n",
    "i = 0\n",
    "for img in glob.glob(r\"C:\\Users\\asus\\Videos\\barrier_images\\*.jpg\"):\n",
    "    image = cv2.imread(img)\n",
    "    image = image[700:1000, 1600:1920]\n",
    "    cv2.imwrite(r\"C:\\Users\\asus\\Videos\\barrier_images_crop\\ \"+str(i)+\".jpg\",image)\n",
    "    i+=1\n",
    "cv2.destroyAllWindows()"
   ]
  },
  {
   "cell_type": "code",
   "execution_count": null,
   "metadata": {},
   "outputs": [],
   "source": [
    "image = cv2.imread(r\"C:\\Users\\asus\\Videos\\barrier_images\\1.jpg\")\n",
    "cv2.rectangle(image,())"
   ]
  },
  {
   "cell_type": "code",
   "execution_count": null,
   "metadata": {},
   "outputs": [],
   "source": [
    "import glob\n",
    "import os\n",
    "import cv2\n",
    "\n",
    "not_req = []\n",
    "i = 0\n",
    "for img in glob.glob(r\"C:\\Users\\asus\\Videos\\barrier_images\\*.jpg\"):\n",
    "    image = cv2.imread(img)\n",
    "    image = image[700:1000, 1600:1920]\n",
    "    cv2.imwrite(r\"C:\\Users\\asus\\Videos\\barrier_images_crop\\ \"+str(i)+\".jpg\",image)\n",
    "    i+=1\n",
    "cv2.destroyAllWindows()"
   ]
  },
  {
   "cell_type": "code",
   "execution_count": 4,
   "metadata": {
    "scrolled": true
   },
   "outputs": [
    {
     "name": "stdout",
     "output_type": "stream",
     "text": [
      "Type your password and press enter: gvnchetty@1A\n"
     ]
    },
    {
     "ename": "SMTPAuthenticationError",
     "evalue": "(535, b'5.7.8 Username and Password not accepted. Learn more at\\n5.7.8  https://support.google.com/mail/?p=BadCredentials 79sm12806718pfz.23 - gsmtp')",
     "output_type": "error",
     "traceback": [
      "\u001b[1;31m---------------------------------------------------------------------------\u001b[0m",
      "\u001b[1;31mSMTPAuthenticationError\u001b[0m                   Traceback (most recent call last)",
      "\u001b[1;32m<ipython-input-4-56cc9a533a14>\u001b[0m in \u001b[0;36m<module>\u001b[1;34m\u001b[0m\n\u001b[0;32m     13\u001b[0m \u001b[0mcontext\u001b[0m \u001b[1;33m=\u001b[0m \u001b[0mssl\u001b[0m\u001b[1;33m.\u001b[0m\u001b[0mcreate_default_context\u001b[0m\u001b[1;33m(\u001b[0m\u001b[1;33m)\u001b[0m\u001b[1;33m\u001b[0m\u001b[1;33m\u001b[0m\u001b[0m\n\u001b[0;32m     14\u001b[0m \u001b[1;32mwith\u001b[0m \u001b[0msmtplib\u001b[0m\u001b[1;33m.\u001b[0m\u001b[0mSMTP_SSL\u001b[0m\u001b[1;33m(\u001b[0m\u001b[0msmtp_server\u001b[0m\u001b[1;33m,\u001b[0m \u001b[0mport\u001b[0m\u001b[1;33m,\u001b[0m \u001b[0mcontext\u001b[0m\u001b[1;33m=\u001b[0m\u001b[0mcontext\u001b[0m\u001b[1;33m)\u001b[0m \u001b[1;32mas\u001b[0m \u001b[0mserver\u001b[0m\u001b[1;33m:\u001b[0m\u001b[1;33m\u001b[0m\u001b[1;33m\u001b[0m\u001b[0m\n\u001b[1;32m---> 15\u001b[1;33m     \u001b[0mserver\u001b[0m\u001b[1;33m.\u001b[0m\u001b[0mlogin\u001b[0m\u001b[1;33m(\u001b[0m\u001b[0msender_email\u001b[0m\u001b[1;33m,\u001b[0m \u001b[0mpassword\u001b[0m\u001b[1;33m)\u001b[0m\u001b[1;33m\u001b[0m\u001b[1;33m\u001b[0m\u001b[0m\n\u001b[0m\u001b[0;32m     16\u001b[0m     \u001b[0mserver\u001b[0m\u001b[1;33m.\u001b[0m\u001b[0msendmail\u001b[0m\u001b[1;33m(\u001b[0m\u001b[0msender_email\u001b[0m\u001b[1;33m,\u001b[0m \u001b[0mreceiver_email\u001b[0m\u001b[1;33m,\u001b[0m \u001b[0mmessage\u001b[0m\u001b[1;33m)\u001b[0m\u001b[1;33m\u001b[0m\u001b[1;33m\u001b[0m\u001b[0m\n",
      "\u001b[1;32mC:\\ProgramData\\Anaconda3\\lib\\smtplib.py\u001b[0m in \u001b[0;36mlogin\u001b[1;34m(self, user, password, initial_response_ok)\u001b[0m\n\u001b[0;32m    728\u001b[0m \u001b[1;33m\u001b[0m\u001b[0m\n\u001b[0;32m    729\u001b[0m         \u001b[1;31m# We could not login successfully.  Return result of last attempt.\u001b[0m\u001b[1;33m\u001b[0m\u001b[1;33m\u001b[0m\u001b[1;33m\u001b[0m\u001b[0m\n\u001b[1;32m--> 730\u001b[1;33m         \u001b[1;32mraise\u001b[0m \u001b[0mlast_exception\u001b[0m\u001b[1;33m\u001b[0m\u001b[1;33m\u001b[0m\u001b[0m\n\u001b[0m\u001b[0;32m    731\u001b[0m \u001b[1;33m\u001b[0m\u001b[0m\n\u001b[0;32m    732\u001b[0m     \u001b[1;32mdef\u001b[0m \u001b[0mstarttls\u001b[0m\u001b[1;33m(\u001b[0m\u001b[0mself\u001b[0m\u001b[1;33m,\u001b[0m \u001b[0mkeyfile\u001b[0m\u001b[1;33m=\u001b[0m\u001b[1;32mNone\u001b[0m\u001b[1;33m,\u001b[0m \u001b[0mcertfile\u001b[0m\u001b[1;33m=\u001b[0m\u001b[1;32mNone\u001b[0m\u001b[1;33m,\u001b[0m \u001b[0mcontext\u001b[0m\u001b[1;33m=\u001b[0m\u001b[1;32mNone\u001b[0m\u001b[1;33m)\u001b[0m\u001b[1;33m:\u001b[0m\u001b[1;33m\u001b[0m\u001b[1;33m\u001b[0m\u001b[0m\n",
      "\u001b[1;32mC:\\ProgramData\\Anaconda3\\lib\\smtplib.py\u001b[0m in \u001b[0;36mlogin\u001b[1;34m(self, user, password, initial_response_ok)\u001b[0m\n\u001b[0;32m    719\u001b[0m                 (code, resp) = self.auth(\n\u001b[0;32m    720\u001b[0m                     \u001b[0mauthmethod\u001b[0m\u001b[1;33m,\u001b[0m \u001b[0mgetattr\u001b[0m\u001b[1;33m(\u001b[0m\u001b[0mself\u001b[0m\u001b[1;33m,\u001b[0m \u001b[0mmethod_name\u001b[0m\u001b[1;33m)\u001b[0m\u001b[1;33m,\u001b[0m\u001b[1;33m\u001b[0m\u001b[1;33m\u001b[0m\u001b[0m\n\u001b[1;32m--> 721\u001b[1;33m                     initial_response_ok=initial_response_ok)\n\u001b[0m\u001b[0;32m    722\u001b[0m                 \u001b[1;31m# 235 == 'Authentication successful'\u001b[0m\u001b[1;33m\u001b[0m\u001b[1;33m\u001b[0m\u001b[1;33m\u001b[0m\u001b[0m\n\u001b[0;32m    723\u001b[0m                 \u001b[1;31m# 503 == 'Error: already authenticated'\u001b[0m\u001b[1;33m\u001b[0m\u001b[1;33m\u001b[0m\u001b[1;33m\u001b[0m\u001b[0m\n",
      "\u001b[1;32mC:\\ProgramData\\Anaconda3\\lib\\smtplib.py\u001b[0m in \u001b[0;36mauth\u001b[1;34m(self, mechanism, authobject, initial_response_ok)\u001b[0m\n\u001b[0;32m    640\u001b[0m         \u001b[1;32mif\u001b[0m \u001b[0mcode\u001b[0m \u001b[1;32min\u001b[0m \u001b[1;33m(\u001b[0m\u001b[1;36m235\u001b[0m\u001b[1;33m,\u001b[0m \u001b[1;36m503\u001b[0m\u001b[1;33m)\u001b[0m\u001b[1;33m:\u001b[0m\u001b[1;33m\u001b[0m\u001b[1;33m\u001b[0m\u001b[0m\n\u001b[0;32m    641\u001b[0m             \u001b[1;32mreturn\u001b[0m \u001b[1;33m(\u001b[0m\u001b[0mcode\u001b[0m\u001b[1;33m,\u001b[0m \u001b[0mresp\u001b[0m\u001b[1;33m)\u001b[0m\u001b[1;33m\u001b[0m\u001b[1;33m\u001b[0m\u001b[0m\n\u001b[1;32m--> 642\u001b[1;33m         \u001b[1;32mraise\u001b[0m \u001b[0mSMTPAuthenticationError\u001b[0m\u001b[1;33m(\u001b[0m\u001b[0mcode\u001b[0m\u001b[1;33m,\u001b[0m \u001b[0mresp\u001b[0m\u001b[1;33m)\u001b[0m\u001b[1;33m\u001b[0m\u001b[1;33m\u001b[0m\u001b[0m\n\u001b[0m\u001b[0;32m    643\u001b[0m \u001b[1;33m\u001b[0m\u001b[0m\n\u001b[0;32m    644\u001b[0m     \u001b[1;32mdef\u001b[0m \u001b[0mauth_cram_md5\u001b[0m\u001b[1;33m(\u001b[0m\u001b[0mself\u001b[0m\u001b[1;33m,\u001b[0m \u001b[0mchallenge\u001b[0m\u001b[1;33m=\u001b[0m\u001b[1;32mNone\u001b[0m\u001b[1;33m)\u001b[0m\u001b[1;33m:\u001b[0m\u001b[1;33m\u001b[0m\u001b[1;33m\u001b[0m\u001b[0m\n",
      "\u001b[1;31mSMTPAuthenticationError\u001b[0m: (535, b'5.7.8 Username and Password not accepted. Learn more at\\n5.7.8  https://support.google.com/mail/?p=BadCredentials 79sm12806718pfz.23 - gsmtp')"
     ]
    }
   ],
   "source": [
    "import smtplib, ssl\n",
    "\n",
    "port = 465  # For SSL\n",
    "smtp_server = \"smtp.gmail.com\"\n",
    "sender_email = \"pavan.takeleap@gmail.com\"  # Enter your address\n",
    "receiver_email = \"pavan.chetty82g@gmail.com\"  # Enter receiver address\n",
    "password = input(\"Type your password and press enter: \")\n",
    "message = \"\"\"\\\n",
    "Subject: Hi there\n",
    "\n",
    "This message is sent from Python.\"\"\"\n",
    "\n",
    "context = ssl.create_default_context()\n",
    "with smtplib.SMTP_SSL(smtp_server, port, context=context) as server:\n",
    "    server.login(sender_email, password)\n",
    "    server.sendmail(sender_email, receiver_email, message)"
   ]
  },
  {
   "cell_type": "code",
   "execution_count": 22,
   "metadata": {},
   "outputs": [],
   "source": [
    "import glob\n",
    "import os\n",
    "for img in glob.glob(r\"C:\\Users\\asus\\Videos\\barrier_images_crop\\*.jpg\"):\n",
    "    if os.path.exists(img[:-3]+ \"txt\"):\n",
    "        continue\n",
    "    else:\n",
    "        open(img[:-1]+\".txt\", 'a').close()"
   ]
  },
  {
   "cell_type": "code",
   "execution_count": 16,
   "metadata": {},
   "outputs": [
    {
     "ename": "SyntaxError",
     "evalue": "(unicode error) 'unicodeescape' codec can't decode bytes in position 3-4: truncated \\UXXXXXXXX escape (<ipython-input-16-ea751b61b3cc>, line 1)",
     "output_type": "error",
     "traceback": [
      "\u001b[1;36m  File \u001b[1;32m\"<ipython-input-16-ea751b61b3cc>\"\u001b[1;36m, line \u001b[1;32m1\u001b[0m\n\u001b[1;33m    c = \" C:\\Users\\asus\\Videos\\barrier_images_crop\\*.jpg \"\u001b[0m\n\u001b[1;37m       ^\u001b[0m\n\u001b[1;31mSyntaxError\u001b[0m\u001b[1;31m:\u001b[0m (unicode error) 'unicodeescape' codec can't decode bytes in position 3-4: truncated \\UXXXXXXXX escape\n"
     ]
    }
   ],
   "source": [
    "c = \" C:\\Users\\asus\\Videos\\barrier_images_crop\\*.jpg \"\n"
   ]
  },
  {
   "cell_type": "code",
   "execution_count": 17,
   "metadata": {},
   "outputs": [],
   "source": [
    "c = \"pavan\""
   ]
  },
  {
   "cell_type": "code",
   "execution_count": 19,
   "metadata": {},
   "outputs": [
    {
     "data": {
      "text/plain": [
       "'pava'"
      ]
     },
     "execution_count": 19,
     "metadata": {},
     "output_type": "execute_result"
    }
   ],
   "source": []
  },
  {
   "cell_type": "code",
   "execution_count": 3,
   "metadata": {},
   "outputs": [
    {
     "name": "stdout",
     "output_type": "stream",
     "text": [
      "Run the file again and type -h or --h for more information on arguments.\n",
      "          i.e. python <filename> -h or python <filename> --help\n"
     ]
    }
   ],
   "source": [
    "#! /usr/bin/python\n",
    "#import sys for command line arguments\n",
    "import sys \n",
    "\n",
    "#function to generate io file based on command line arguments\n",
    "def file_io(filename, scan_clock, scan_enable_i):\n",
    "\n",
    "  #create new file with given name\n",
    "    file = open(filename+'.def','w') \n",
    "  \n",
    "  #write details\n",
    "    file.write(\\\n",
    "            \"TBDpatt_Format (mode=node, model_entity_form=name);\\n\"\\\n",
    "            \"[ Define_Sequence ScanSequence (test);\\n\"\\\n",
    "            \"\\n  [ Pattern 1.2 (pattern_type = static);\\n\"\\\n",
    "            \"Event 1.2.1 Stim_PI_Plus_Random ():\\n\"\\\n",
    "               \"\\\"\" + scan_enable_i + \"\\\"=1 ;\\n\"\\\n",
    "              \"] Pattern 1.2;\\n\"\\\n",
    "              \"[ Pattern 1.3 (pattern_type = dynamic);\\n\"\\\n",
    "                \"  Event 1.3.1 Pulse (timed_type = release):\"\\\n",
    "                \"  \\\"\" + scan_clock + \"\\\"=+ ;\\n\"\n",
    "                \"  Event 1.3.2 Stim_PI ():\\n\"\\\n",
    "               \" \\\"\" + scan_enable_i + \"\\\"=0;\\n\"\\\n",
    "                \"  Event 1.3.3 Pulse (timed_type = capture):\\n\"\\\n",
    "                  \"\\\"\" + scan_clock + \"\\\"=+ ;\\n\"\\\n",
    "              \"  ] Pattern 1.2;\\n\"\\\n",
    "              \"\\n  ] Define_Sequence ScanSequence;\")\n",
    "\n",
    "    file.close()\n",
    "\n",
    "\n",
    "#Description under this function will be displayed when user enter -h or --help command\n",
    "def help_function():\n",
    "\n",
    "  #type manual description to be printed inside print statement\n",
    "    print(\"Give arguments -scan_clock clock name \\\n",
    "         \\n and -scan_enable_i scan enable pin name\")\n",
    "\n",
    "\n",
    "if __name__ == \"__main__\":\n",
    "\n",
    "  #all the command line arguments (including filename) are listed into this argumentList\n",
    "    argumentList = sys.argv\n",
    "\n",
    "    if len(argumentList) == 2:\n",
    "        if argumentList[1] == '-h' or argumentList[1] == '--help':\n",
    "            help_function()\n",
    "\n",
    "    #if help command is incorrect!\n",
    "        else:\n",
    "            print(\"Run the file again and type -h or --h for more information on arguments.\\n\\\n",
    "              i.e. python <filename> -h or python <filename> --help\")\n",
    "\n",
    "    elif len(argumentList) == 5:\n",
    "        filename = \"sequence\"\n",
    "\n",
    "        argumentList_dictionary = {}\n",
    "        for i in range(1,5,2):\n",
    "            if(argumentList[i][0] == '-'):\n",
    "                argumentList_dictionary[argumentList[i].split('-')[1]] = argumentList[i+1]\n",
    "\n",
    "        scan_clock = argumentList_dictionary['scan_clock']\n",
    "        scan_enable_i = argumentList_dictionary['scan_enable_i']\n",
    "\n",
    "        file_io(filename, scan_clock, scan_enable_i)\n",
    "\n",
    "    else:\n",
    "        print(\"Run the file again and type -h or --h for more information on arguments.\\n\\\n",
    "          i.e. python <filename> -h or python <filename> --help\")\n"
   ]
  },
  {
   "cell_type": "code",
   "execution_count": null,
   "metadata": {},
   "outputs": [],
   "source": [
    "#!/usr/bin/python\n",
    "import math\n",
    "import sys\n",
    "if len(sys.argv)<2:\n",
    "    print 'add -h or --help switch to find out the usage and arguments to be given for the file\\n'\n",
    "if len(sys.argv)==2:\n",
    "    print 'PURPOSE OF SCRIPT:\\nTO create sv rtl for memory\\n'\n",
    "    print'INSTRUCTIONS TO RUN SCRIPT:\\nUSE THE FOLLOWING SWITCHES TO GIVE YOUR INPUT FILES AND OUTPUT FILES:\\n1) -input_address\\n2) -input_data\\n3 -output_file_created\\n4 -memory_name\\n5) -output_file_created\\nFOR_EXAMPLE: ./<script_name> -input_address <value> -input_data<value> -output_file_created <file_name> -memory_name<dti_sp_tm28_adresses length x data length_4ww1xm_a>\\n'\n",
    "if len(sys.argv)>3:\n",
    "    x=sys.argv.index(\"-input_address\")\n",
    "    address=sys.argv[x+1]\n",
    "    y=sys.argv.index(\"-input_data\")\n",
    "    data=sys.argv[y+1]\n",
    "    z=sys.argv.index(\"-output_file_created\")\n",
    "    file1 =sys.argv[z+1]    \n",
    "    k=sys.argv.index(\"-memory_name\")\n",
    "    mem_name=sys.argv[k+1]   \n",
    "    f= open(file1+'.sv', 'w') \n",
    "\n",
    "    ports=\"\"\"\n",
    "    module %s (\n",
    "    do_o, \n",
    "    ce_n, \n",
    "    di,\n",
    "    gwe_n,\n",
    "    t_rm,\n",
    "    clk,\n",
    "    addrs\n",
    "    );\n",
    "    \"\"\"%(file1)\n",
    "    s=mem_name.split(\"_\")\n",
    "    y=s[3].split(\"x\")\n",
    "    basic_mem_size =int (y[0])\n",
    "    basic_data_size =int (y[1])\n",
    "    addrs_len=int(address)\n",
    "    f.write(ports)\n",
    "    add=addrs_len-1\n",
    "    no_of_loc=pow(2,addrs_len)\n",
    "    chip_en_size=(no_of_loc/basic_mem_size)\n",
    "    data_len=int(data)\n",
    "    width=(data_len/basic_data_size)\n",
    "    width_len=width-1\n",
    "    chip_en_size_t=(chip_en_size-1)\n",
    "    z=math.log(chip_en_size,2)    \n",
    "    y=int(addrs_len-(z+1))\n",
    "    u=int(z)\n",
    "    basic_mem_len=int(math.log(basic_mem_size,2))\n",
    "    #print basic_mem_len\n",
    "    basic_data_size_t=basic_data_size-1\n",
    "    f.write(\"\\n\")\n",
    "    f.write(\"input[%s:0]addrs;\\n\"%add)\n",
    "    dat=data_len-1\n",
    "    f.write(\"input[%s:0]di;\\n\"%dat)\n",
    "    f.write(\"output[%s:0]do_o;\\n\"%dat)\n",
    "    f.write(\"input ce_n;\\n\"\"input gwe_n ;\\n\"\"input [2:0] t_rm ;\\n\"\"input clk;\\n\\n\\n\")\n",
    "    f.write(\"// wire declarationn\\n\\n\")\n",
    "    f.write(\"wire[%s:0]ce;\\n\"%chip_en_size_t)\n",
    "    f.write(\"wire[%s:0]mem_out [0:%s];\\n\"%(basic_data_size_t,width_len))\n",
    "    f.write(\"wire[%s:0]mem_in [0:%s];\\n\\n\\n\"%(basic_data_size_t,width_len))\n",
    "    f.write(\"//split the input bits each\\n\")\n",
    "    for x in range (0,width):\n",
    "        h=(basic_data_size*(x+1)-1)\n",
    "        j=(basic_data_size*x)   \n",
    "        f.write(\"assign mem_in[%s] = di[%s:%s];\\n\"%(x,h,j))\n",
    "\n",
    "    f.write(\"\\n\\n\")\n",
    "    f.write(\"//selection of memory\\n\")\n",
    "    bit_count = u\n",
    "    #print bit_count\n",
    "    op = { 0:'~', 1:'' }\n",
    "    for i in range(2**bit_count): \n",
    "        x = \"assign ce[%d] = ce_n & (\"%(i)\n",
    "        for j in range(bit_count-1, -1, -1): \n",
    "            x += \"%s(addrs[%d])\"%(op[((i&(1<<j))>>j)],basic_mem_len+j) \n",
    "            if(j != 0):\n",
    "                x += ' | '\n",
    "            else:\n",
    "                x += ');'\n",
    "        f.write(\"\\n\\n\")\n",
    "        f.write (x) \n",
    "    f.write(\"\\n\\n\")\n",
    "    f.write(\"//split the output bits each\\n\")\n",
    "     \n",
    "    for l in range (0,width):\n",
    "        h=(basic_data_size*(l+1)-1)\n",
    "        j=(basic_data_size*l)   \n",
    "        f.write(\"assign do_o[%s:%s] = mem_out[%s];\\n\"%(h,j,l))\n",
    "     \n",
    "     #forloop= \"\"\"\n"
   ]
  },
  {
   "cell_type": "code",
   "execution_count": 4,
   "metadata": {},
   "outputs": [],
   "source": [
    "\n",
    "\n",
    "# Read in the file\n",
    "with open(r'C:\\Users\\asus\\Downloads\\program.txt.txt', 'r') as file :\n",
    "    filedata = file.read()\n",
    "\n",
    "# Replace the target string\n",
    "filedata = filedata.replace('Walking0', 'algo_test')\n",
    "\n",
    "# Write the file out again\n",
    "with open(r'C:\\Users\\asus\\Downloads\\program1.txt.txt', 'w') as file:\n",
    "    file.write(filedata)"
   ]
  },
  {
   "cell_type": "code",
   "execution_count": null,
   "metadata": {},
   "outputs": [],
   "source": [
    "Walking0:\n",
    "    \n",
    "M0_W1:\n",
    "    \n",
    "M1_R1W0R0:\n",
    "    \n",
    "M2_R0W1R1:"
   ]
  },
  {
   "cell_type": "code",
   "execution_count": 21,
   "metadata": {},
   "outputs": [
    {
     "data": {
      "text/plain": [
       "{'walking0': ['M0_W1', 'M1_R1W0R0', 'M2_R0W1R1']}"
      ]
     },
     "execution_count": 21,
     "metadata": {},
     "output_type": "execute_result"
    }
   ],
   "source": [
    "import json\n",
    "# Read in the file\n",
    "with open(r'C:\\Users\\asus\\Downloads\\program1.txt.txt', 'r') as file :\n",
    "    filedata = file.read()\n",
    "\n",
    "    \n",
    "with open(r'C:\\Users\\asus\\Downloads\\test.json') as f:\n",
    "    data = json.load(f)\n",
    "    \n",
    "data\n",
    "\n",
    "\n"
   ]
  },
  {
   "cell_type": "code",
   "execution_count": 23,
   "metadata": {},
   "outputs": [],
   "source": [
    "j = 1\n",
    "for k,v in data.items():\n",
    "    filedata = filedata.replace('algo'+str(j),k )\n",
    "    j+=1\n",
    "    for i,items in enumerate(v):\n",
    "        filedata = filedata.replace('ins'+str(i+1),items )\n",
    "with open(r'C:\\Users\\asus\\Downloads\\program2.txt.txt', 'w') as file:\n",
    "    file.write(filedata)"
   ]
  },
  {
   "cell_type": "code",
   "execution_count": null,
   "metadata": {},
   "outputs": [],
   "source": [
    "572194121"
   ]
  },
  {
   "cell_type": "code",
   "execution_count": null,
   "metadata": {},
   "outputs": [],
   "source": [
    "<annotation>\n",
    "\t<folder>JPEGImages</folder>\n",
    "\t<filename>BloodImage_00000.jpg</filename>\n",
    "\t<path>/home/pi/detection_dataset/JPEGImages/BloodImage_00000.jpg</path>\n",
    "\t<source>\n",
    "\t\t<database>Unknown</database>\n",
    "\t</source>\n",
    "\t<size>\n",
    "\t\t<width>640</width>\n",
    "\t\t<height>480</height>\n",
    "\t\t<depth>3</depth>\n",
    "\t</size>\n",
    "\t<segmented>0</segmented>\n",
    "\t<object>\n",
    "\t\t<name>WBC</name>\n",
    "\t\t<pose>Unspecified</pose>\n",
    "\t\t<truncated>0</truncated>\n",
    "\t\t<difficult>0</difficult>\n",
    "\t\t<bndbox>\n",
    "\t\t\t<xmin>260</xmin>\n",
    "\t\t\t<ymin>177</ymin>\n",
    "\t\t\t<xmax>491</xmax>\n",
    "\t\t\t<ymax>376</ymax>\n",
    "\t\t</bndbox>\n",
    "\t</object>\n",
    "    ...\n",
    "\t<object>\n",
    "\t\t...\n",
    "\t</object>\n",
    "</annotation>"
   ]
  },
  {
   "cell_type": "code",
   "execution_count": 2,
   "metadata": {},
   "outputs": [],
   "source": [
    "import xml.etree.cElementTree as ET\n",
    "\n",
    "root = ET.Element(\"root\")\n",
    "doc = ET.SubElement(root, \"doc\")\n",
    "\n",
    "ET.SubElement(doc, \"field1\", name=\"blah\").text = \"some value1\"\n",
    "ET.SubElement(doc, \"field2\", name=\"asdfasd\").text = \"some vlaue2\"\n",
    "\n",
    "tree = ET.ElementTree(root)\n",
    "tree.write(\"filename.xml\")"
   ]
  },
  {
   "cell_type": "code",
   "execution_count": 20,
   "metadata": {
    "scrolled": true
   },
   "outputs": [
    {
     "ename": "TypeError",
     "evalue": "expected str, bytes or os.PathLike object, not xml.etree.ElementTree.Element",
     "output_type": "error",
     "traceback": [
      "\u001b[1;31m---------------------------------------------------------------------------\u001b[0m",
      "\u001b[1;31mTypeError\u001b[0m                                 Traceback (most recent call last)",
      "\u001b[1;32m<ipython-input-20-75bba16aa1f2>\u001b[0m in \u001b[0;36m<module>\u001b[1;34m\u001b[0m\n\u001b[0;32m     20\u001b[0m \u001b[0mtree\u001b[0m \u001b[1;33m=\u001b[0m \u001b[0mxml\u001b[0m\u001b[1;33m.\u001b[0m\u001b[0mElementTree\u001b[0m\u001b[1;33m(\u001b[0m\u001b[0mroot\u001b[0m\u001b[1;33m)\u001b[0m\u001b[1;33m\u001b[0m\u001b[1;33m\u001b[0m\u001b[0m\n\u001b[0;32m     21\u001b[0m \u001b[1;33m\u001b[0m\u001b[0m\n\u001b[1;32m---> 22\u001b[1;33m \u001b[1;32mwith\u001b[0m \u001b[0mopen\u001b[0m\u001b[1;33m(\u001b[0m\u001b[0mfilename\u001b[0m\u001b[1;33m,\u001b[0m \u001b[1;34m\"wb\"\u001b[0m\u001b[1;33m)\u001b[0m \u001b[1;32mas\u001b[0m \u001b[0mfh\u001b[0m\u001b[1;33m:\u001b[0m\u001b[1;33m\u001b[0m\u001b[1;33m\u001b[0m\u001b[0m\n\u001b[0m\u001b[0;32m     23\u001b[0m     \u001b[0mtree\u001b[0m\u001b[1;33m.\u001b[0m\u001b[0mwrite\u001b[0m\u001b[1;33m(\u001b[0m\u001b[0mfh\u001b[0m\u001b[1;33m)\u001b[0m\u001b[1;33m\u001b[0m\u001b[1;33m\u001b[0m\u001b[0m\n",
      "\u001b[1;31mTypeError\u001b[0m: expected str, bytes or os.PathLike object, not xml.etree.ElementTree.Element"
     ]
    }
   ],
   "source": [
    "import xml.etree.ElementTree as xml\n",
    "\n",
    "filename = \"xml.xml\"\n",
    "\n",
    "root = xml.Element(\"annotation\")\n",
    "\n",
    "folder = xml.Element(\"folder\")\n",
    "root.append(folder)\n",
    "filename = xml.Element(\"filename\")\n",
    "root.append(userelement)\n",
    "size = xml.Element(\"size\")\n",
    "root.append(size)\n",
    "width = xml.SubElement(size, \"width\")\n",
    "width.text = \"1\"\n",
    "height = xml.SubElement(size, \"height\")\n",
    "height.text = \"1\"\n",
    "depth = xml.SubElement(size, \"depth\")\n",
    "depth.text = \"1\"\n",
    "\n",
    "tree = xml.ElementTree(root)\n",
    "\n",
    "with open(filename, \"wb\") as fh:\n",
    "    tree.write(fh)"
   ]
  },
  {
   "cell_type": "code",
   "execution_count": 25,
   "metadata": {},
   "outputs": [],
   "source": [
    "import xml.etree.ElementTree as xml\n",
    "\n",
    "filename = \"xml1.xml\"\n",
    "\n",
    "root = xml.Element(\"annotation\")\n",
    "\n",
    "folder = xml.Element(\"folder\")\n",
    "folder.text=\"folder_name\"\n",
    "root.append(folder)\n",
    "\n",
    "filename = xml.Element(\"filename\")\n",
    "filename.text=\"file_name\"\n",
    "root.append(filename)\n",
    "\n",
    "size = xml.Element(\"size\")\n",
    "root.append(size)\n",
    "width = xml.SubElement(size, \"width\")\n",
    "width.text = \"1\"\n",
    "height = xml.SubElement(size, \"height\")\n",
    "height.text = \"1\"\n",
    "depth = xml.SubElement(size, \"depth\")\n",
    "depth.text = \"1\"\n",
    "\n",
    "# depends on the number of detections\n",
    "objects = xml.Element(\"objects\")\n",
    "root.append(objects)\n",
    "Class = xml.SubElement(objects, \"class\")\n",
    "Class.text = \"1\"\n",
    "bndbox = xml.SubElement(objects, \"bndbox\")\n",
    "xmin = xml.SubElement(bndbox, \"xmin\")\n",
    "xmin.text = \"1\"\n",
    "ymin = xml.SubElement(bndbox, \"ymin\")\n",
    "ymin.text = \"1\"\n",
    "xmax = xml.SubElement(bndbox, \"xmax\")\n",
    "xmax.text = \"1\"\n",
    "ymax = xml.SubElement(bndbox, \"ymax\")\n",
    "ymax.text = \"1\"\n",
    "\n",
    "\n",
    "tree = xml.ElementTree(root)\n",
    "tree.write(\"filename.xml\")\n",
    "# print(tree)\n",
    "# with open(filename, \"wb\") as fh:\n",
    "#     tree.write(fh)"
   ]
  },
  {
   "cell_type": "code",
   "execution_count": 22,
   "metadata": {},
   "outputs": [],
   "source": [
    "import xml.etree.cElementTree as ET\n",
    "root = ET.Element(\"products\")\n",
    "doc = ET.SubElement(root, \"product\")\n",
    "\n",
    "ET.SubElement(doc, \"id\").text = \"some value1\"\n",
    "ET.SubElement(doc, \"name\").text = \"some vlaue1\"\n",
    "doc2 = ET.SubElement(root, \"product\")\n",
    "ET.SubElement(doc2, \"id\").text = \"some value2\"\n",
    "ET.SubElement(doc2, \"name\").text = \"some vlaue2\"\n",
    "tree = ET.ElementTree(root)\n",
    "tree.write(\"filename.xml\")"
   ]
  },
  {
   "cell_type": "code",
   "execution_count": null,
   "metadata": {},
   "outputs": [],
   "source": [
    "import xml.etree.cElementTree as ET\n",
    "anno = ET.Element(\"products\")\n",
    "doc = ET.SubElement(root, \"product\")\n",
    "\n",
    "ET.SubElement(doc, \"id\").text = \"some value1\"\n",
    "ET.SubElement(doc, \"name\").text = \"some vlaue1\"\n",
    "doc2 = ET.SubElement(root, \"product\")\n",
    "ET.SubElement(doc2, \"id\").text = \"some value2\"\n",
    "ET.SubElement(doc2, \"name\").text = \"some vlaue2\"\n",
    "tree = ET.ElementTree(root)\n",
    "tree.write(\"filename.xml\")"
   ]
  }
 ],
 "metadata": {
  "kernelspec": {
   "display_name": "Python 3",
   "language": "python",
   "name": "python3"
  },
  "language_info": {
   "codemirror_mode": {
    "name": "ipython",
    "version": 3
   },
   "file_extension": ".py",
   "mimetype": "text/x-python",
   "name": "python",
   "nbconvert_exporter": "python",
   "pygments_lexer": "ipython3",
   "version": "3.7.4"
  }
 },
 "nbformat": 4,
 "nbformat_minor": 2
}
