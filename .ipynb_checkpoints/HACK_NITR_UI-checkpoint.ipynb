{
 "cells": [
  {
   "cell_type": "code",
   "execution_count": 40,
   "metadata": {},
   "outputs": [],
   "source": [
    "import tkinter as tk"
   ]
  },
  {
   "cell_type": "code",
   "execution_count": 41,
   "metadata": {},
   "outputs": [],
   "source": [
    "m=tk.Tk(className='Main window')"
   ]
  },
  {
   "cell_type": "code",
   "execution_count": 42,
   "metadata": {},
   "outputs": [],
   "source": [
    "tk.Label(m, text='First Name').grid(row=0) \n",
    "\n",
    "e1 = tk.Entry(m) \n",
    "\n",
    "e1.grid(row=0, column=1) \n"
   ]
  },
  {
   "cell_type": "code",
   "execution_count": 43,
   "metadata": {},
   "outputs": [
    {
     "ename": "TclError",
     "evalue": "cannot use geometry manager pack inside . which already has slaves managed by grid",
     "output_type": "error",
     "traceback": [
      "\u001b[1;31m---------------------------------------------------------------------------\u001b[0m",
      "\u001b[1;31mTclError\u001b[0m                                  Traceback (most recent call last)",
      "\u001b[1;32m<ipython-input-43-1604c8b07e82>\u001b[0m in \u001b[0;36m<module>\u001b[1;34m\u001b[0m\n\u001b[0;32m      1\u001b[0m \u001b[0mbutton\u001b[0m \u001b[1;33m=\u001b[0m \u001b[0mtk\u001b[0m\u001b[1;33m.\u001b[0m\u001b[0mButton\u001b[0m\u001b[1;33m(\u001b[0m\u001b[0mm\u001b[0m\u001b[1;33m,\u001b[0m \u001b[0mtext\u001b[0m\u001b[1;33m=\u001b[0m\u001b[1;34m'Stop'\u001b[0m\u001b[1;33m,\u001b[0m \u001b[0mwidth\u001b[0m\u001b[1;33m=\u001b[0m\u001b[1;36m25\u001b[0m\u001b[1;33m,\u001b[0m \u001b[0mcommand\u001b[0m\u001b[1;33m=\u001b[0m\u001b[0mm\u001b[0m\u001b[1;33m.\u001b[0m\u001b[0mdestroy\u001b[0m\u001b[1;33m)\u001b[0m\u001b[1;33m\u001b[0m\u001b[1;33m\u001b[0m\u001b[0m\n\u001b[1;32m----> 2\u001b[1;33m \u001b[0mbutton\u001b[0m\u001b[1;33m.\u001b[0m\u001b[0mpack\u001b[0m\u001b[1;33m(\u001b[0m\u001b[1;33m)\u001b[0m\u001b[1;33m\u001b[0m\u001b[1;33m\u001b[0m\u001b[0m\n\u001b[0m",
      "\u001b[1;32mC:\\ProgramData\\Anaconda3\\lib\\tkinter\\__init__.py\u001b[0m in \u001b[0;36mpack_configure\u001b[1;34m(self, cnf, **kw)\u001b[0m\n\u001b[0;32m   2141\u001b[0m         self.tk.call(\n\u001b[0;32m   2142\u001b[0m               \u001b[1;33m(\u001b[0m\u001b[1;34m'pack'\u001b[0m\u001b[1;33m,\u001b[0m \u001b[1;34m'configure'\u001b[0m\u001b[1;33m,\u001b[0m \u001b[0mself\u001b[0m\u001b[1;33m.\u001b[0m\u001b[0m_w\u001b[0m\u001b[1;33m)\u001b[0m\u001b[1;33m\u001b[0m\u001b[1;33m\u001b[0m\u001b[0m\n\u001b[1;32m-> 2143\u001b[1;33m               + self._options(cnf, kw))\n\u001b[0m\u001b[0;32m   2144\u001b[0m     \u001b[0mpack\u001b[0m \u001b[1;33m=\u001b[0m \u001b[0mconfigure\u001b[0m \u001b[1;33m=\u001b[0m \u001b[0mconfig\u001b[0m \u001b[1;33m=\u001b[0m \u001b[0mpack_configure\u001b[0m\u001b[1;33m\u001b[0m\u001b[1;33m\u001b[0m\u001b[0m\n\u001b[0;32m   2145\u001b[0m     \u001b[1;32mdef\u001b[0m \u001b[0mpack_forget\u001b[0m\u001b[1;33m(\u001b[0m\u001b[0mself\u001b[0m\u001b[1;33m)\u001b[0m\u001b[1;33m:\u001b[0m\u001b[1;33m\u001b[0m\u001b[1;33m\u001b[0m\u001b[0m\n",
      "\u001b[1;31mTclError\u001b[0m: cannot use geometry manager pack inside . which already has slaves managed by grid"
     ]
    }
   ],
   "source": [
    "button = tk.Button(m, text='Stop', width=25, command=m.destroy) \n",
    "button.pack()"
   ]
  },
  {
   "cell_type": "code",
   "execution_count": 44,
   "metadata": {},
   "outputs": [],
   "source": [
    "m.mainloop()"
   ]
  },
  {
   "cell_type": "code",
   "execution_count": 21,
   "metadata": {},
   "outputs": [],
   "source": [
    "import tkinter\n",
    "\n",
    "def write_File (text_File):\n",
    "    file = open(\"users.txt\", \"a\")\n",
    "    #The object text_File is a tkinter.Entry object, so we will get\n",
    "    #   the user input by calling the get method on that object.\n",
    "    user_Input = text_File.get()\n",
    "    #Here we now directly write the user input to the file that has been\n",
    "    #   opened, I'm not sure you were previously doing with writing the\n",
    "    #   string version of the file, but this appears to achieve what you\n",
    "    #   desire.\n",
    "    file.write(user_Input)\n",
    "    file.close()\n",
    "\n",
    "screen = tkinter.Tk()\n",
    "\n",
    "\n",
    "the_input = tkinter.Entry(screen)\n",
    "the_input.grid(row=1, column=1)\n",
    "\n",
    "button_Write = tkinter.Button(screen, text = \"Send to file:\", command = lambda: write_File(the_input)).grid(row=10, column=1)\n",
    "\n",
    "screen.mainloop()"
   ]
  },
  {
   "cell_type": "code",
   "execution_count": 89,
   "metadata": {},
   "outputs": [],
   "source": [
    "# Main code\n",
    "\n",
    "from tkinter import *\n",
    "root=Tk(className='Main window')\n",
    "root.geometry(\"500x400\")\n",
    "\n",
    "\n",
    "main_heading = Label(root, text='Encryptor',font = \"Helvetica 16 bold \")\n",
    "main_heading.place(x = 20, y = 20)\n",
    "\n",
    "get_file = Label(root, text='Get file Name:',font = \"Helvetica 12 bold italic\")\n",
    "get_file.place(x = 20, y = 100)\n",
    "\n",
    "def retrieve_input():\n",
    "    inputValue=textBox.get(\"1.0\",\"end-1c\")\n",
    "    res.config(text=str(inputValue))\n",
    "#     print(inputValue)\n",
    "\n",
    "textBox=Text(root, height=2, width=20)\n",
    "textBox.place(x = 200, y = 100)\n",
    "# textBox.pack()\n",
    "res = Label(root, font = \"Helvetica 12 italic\")\n",
    "buttonCommit=Button(root, height=1, width=10, text=\"Send\", \n",
    "                    command=lambda: retrieve_input())\n",
    "#command=lambda: retrieve_input() >>> just means do this when i press the button\n",
    "buttonCommit.place(x = 250, y = 150)\n",
    "# buttonCommit.pack()\n",
    "res.place(x = 200, y = 200)\n",
    "# res.pack()\n",
    "\n",
    "\n",
    "\n",
    "mainloop()"
   ]
  },
  {
   "cell_type": "code",
   "execution_count": null,
   "metadata": {},
   "outputs": [],
   "source": []
  },
  {
   "cell_type": "code",
   "execution_count": null,
   "metadata": {},
   "outputs": [],
   "source": []
  }
 ],
 "metadata": {
  "kernelspec": {
   "display_name": "Python 3",
   "language": "python",
   "name": "python3"
  },
  "language_info": {
   "codemirror_mode": {
    "name": "ipython",
    "version": 3
   },
   "file_extension": ".py",
   "mimetype": "text/x-python",
   "name": "python",
   "nbconvert_exporter": "python",
   "pygments_lexer": "ipython3",
   "version": "3.7.4"
  }
 },
 "nbformat": 4,
 "nbformat_minor": 2
}
