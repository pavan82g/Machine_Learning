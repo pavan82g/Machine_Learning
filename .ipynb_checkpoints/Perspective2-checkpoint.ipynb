{
 "cells": [
  {
   "cell_type": "code",
   "execution_count": 9,
   "metadata": {},
   "outputs": [],
   "source": [
    "from skimage.filters import threshold_local\n",
    "import numpy as np\n",
    "import argparse\n",
    "import cv2\n",
    "import imutils"
   ]
  },
  {
   "cell_type": "code",
   "execution_count": 30,
   "metadata": {
    "scrolled": true
   },
   "outputs": [],
   "source": [
    "image = cv2.imread(\"testimg.jpg\")\n",
    "ratio = image.shape[0] / 500.0\n",
    "orig = image.copy()\n",
    "image = imutils.resize(image, height = 500)\n",
    "\n",
    "gray = cv2.cvtColor(image, cv2.COLOR_BGR2GRAY)\n",
    "gray = cv2.GaussianBlur(gray, (5, 5), 0)\n",
    "edged = cv2.Canny(gray, 75, 200)\n",
    "\n",
    "# cv2.imshow(\"Image\", image)\n",
    "# cv2.imshow(\"Edged\", edged)\n",
    "# cv2.waitKey(0)\n",
    "# cv2.destroyAllWindows()"
   ]
  },
  {
   "cell_type": "code",
   "execution_count": 31,
   "metadata": {},
   "outputs": [
    {
     "name": "stdout",
     "output_type": "stream",
     "text": [
      "[[[243 295]]\n",
      "\n",
      " [[249 298]]\n",
      "\n",
      " [[255 297]]\n",
      "\n",
      " [[259 292]]\n",
      "\n",
      " [[265 292]]\n",
      "\n",
      " [[266 297]]\n",
      "\n",
      " [[258 297]]\n",
      "\n",
      " [[267 297]]\n",
      "\n",
      " [[266 292]]\n",
      "\n",
      " [[256 294]]\n",
      "\n",
      " [[245 292]]]\n",
      "[[[ 52  45]]\n",
      "\n",
      " [[ 41 499]]\n",
      "\n",
      " [[ 92  41]]\n",
      "\n",
      " [[294  51]]\n",
      "\n",
      " [[299 452]]\n",
      "\n",
      " [[ 46 475]]\n",
      "\n",
      " [[298 499]]\n",
      "\n",
      " [[294  50]]]\n",
      "[[[ 52  45]]\n",
      "\n",
      " [[ 41 499]]\n",
      "\n",
      " [[ 92  41]]\n",
      "\n",
      " [[294  51]]\n",
      "\n",
      " [[299 452]]\n",
      "\n",
      " [[ 46 475]]\n",
      "\n",
      " [[298 499]]\n",
      "\n",
      " [[294  50]]]\n"
     ]
    }
   ],
   "source": [
    "cnts = cv2.findContours(edged.copy(), cv2.RETR_LIST, cv2.CHAIN_APPROX_SIMPLE)\n",
    "cnts = imutils.grab_contours(cnts)\n",
    "cnts = sorted(cnts, key = cv2.contourArea, reverse = True)[:5]\n",
    "\n",
    "for c in cnts:\n",
    "    # approximate the contour\n",
    "    peri = cv2.arcLength(c, True)\n",
    "    approx = cv2.approxPolyDP(c, 0.02 * peri, True)\n",
    "    screenCnt = []\n",
    "    # if our approximated contour has four points, then we\n",
    "    # can assume that we have found our screen\n",
    "    print((approx))\n",
    "#     cv2.drawContours(image, [approx], -1, (0, 255, 0), 2)\n",
    "#     cv2.imshow(\"Outline\", image)\n",
    "#     cv2.waitKey(0)\n",
    "    if len(approx) == 8:\n",
    "        screenCnt = approx\n",
    "        break\n",
    "print(screenCnt)\n",
    "cv2.drawContours(image, [screenCnt], -1, (0, 255, 0), 2)\n",
    "cv2.imshow(\"Outline\", image)\n",
    "cv2.waitKey(0)\n",
    "cv2.destroyAllWindows()"
   ]
  },
  {
   "cell_type": "markdown",
   "metadata": {},
   "source": [
    "link: https://www.pyimagesearch.com/2014/09/01/build-kick-ass-mobile-document-scanner-just-5-minutes/"
   ]
  },
  {
   "cell_type": "code",
   "execution_count": null,
   "metadata": {},
   "outputs": [],
   "source": [
    "\n",
    "warped = four_point_transform(orig, screenCnt.reshape(4, 2) * ratio)\n",
    "warped = cv2.cvtColor(warped, cv2.COLOR_BGR2GRAY)\n",
    "T = threshold_local(warped, 11, offset = 10, method = \"gaussian\")\n",
    "warped = (warped > T).astype(\"uint8\") * 255\n",
    "\n",
    "cv2.imshow(\"Original\", imutils.resize(orig, height = 650))\n",
    "cv2.imshow(\"Scanned\", imutils.resize(warped, height = 650))\n",
    "cv2.waitKey(0)\n",
    "cv2.destroyAllWindows()"
   ]
  }
 ],
 "metadata": {
  "kernelspec": {
   "display_name": "Python 3",
   "language": "python",
   "name": "python3"
  },
  "language_info": {
   "codemirror_mode": {
    "name": "ipython",
    "version": 3
   },
   "file_extension": ".py",
   "mimetype": "text/x-python",
   "name": "python",
   "nbconvert_exporter": "python",
   "pygments_lexer": "ipython3",
   "version": "3.7.4"
  }
 },
 "nbformat": 4,
 "nbformat_minor": 2
}
