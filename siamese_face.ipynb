{
 "cells": [
  {
   "cell_type": "code",
   "execution_count": 1,
   "metadata": {},
   "outputs": [
    {
     "name": "stderr",
     "output_type": "stream",
     "text": [
      "Using TensorFlow backend.\n"
     ]
    },
    {
     "data": {
      "text/plain": [
       "<weakproxy at 0x7f655d3f2278 to Device at 0x7f6601f73710>"
      ]
     },
     "execution_count": 1,
     "metadata": {},
     "output_type": "execute_result"
    }
   ],
   "source": [
    "import re\n",
    "import numpy as np\n",
    "from PIL import Image\n",
    "import os\n",
    "from sklearn.model_selection import train_test_split\n",
    "from keras import backend as K\n",
    "from keras.layers import Activation\n",
    "from keras.layers import Input, Lambda, Dense, Dropout, Convolution2D, MaxPooling2D, Flatten\n",
    "from keras.models import Sequential, Model\n",
    "from keras.optimizers import RMSprop\n",
    "from imutils import paths\n",
    "from keras.callbacks import ModelCheckpoint, EarlyStopping\n",
    "from numba import cuda\n",
    "import tensorflow as tf\n",
    "from keras import backend as k\n",
    "cuda.select_device(0)"
   ]
  },
  {
   "cell_type": "code",
   "execution_count": 2,
   "metadata": {},
   "outputs": [],
   "source": [
    "config = tf.ConfigProto()\n",
    " \n",
    "# Don't pre-allocate memory; allocate as-needed\n",
    "config.gpu_options.allow_growth = True\n",
    "\n",
    "# Only allow a total of half the GPU memory to be allocated\n",
    "config.gpu_options.per_process_gpu_memory_fraction = 0.5\n",
    "\n",
    "# Create a session with the above options specified.\n",
    "k.tensorflow_backend.set_session(tf.Session(config=config))"
   ]
  },
  {
   "cell_type": "code",
   "execution_count": 3,
   "metadata": {},
   "outputs": [
    {
     "name": "stdout",
     "output_type": "stream",
     "text": [
      "[INFO] loading images...\n"
     ]
    },
    {
     "data": {
      "text/plain": [
       "['Abdullah',\n",
       " 'Adish',\n",
       " 'Ajith',\n",
       " 'Akash',\n",
       " 'Alan',\n",
       " 'Anees',\n",
       " 'Anne',\n",
       " 'Bala_Vignesh',\n",
       " 'Bharath',\n",
       " 'Deva',\n",
       " 'Dhamu',\n",
       " 'Dinesh',\n",
       " 'Ganesh',\n",
       " 'Gowtham',\n",
       " 'Guru',\n",
       " 'Hisrath',\n",
       " 'Inzamam',\n",
       " 'Jeevesh',\n",
       " 'Kalyan',\n",
       " 'Mohan',\n",
       " 'Muthu',\n",
       " 'Nitasha',\n",
       " 'Nivash',\n",
       " 'Pavan',\n",
       " 'Pooja',\n",
       " 'Praveen',\n",
       " 'Prithivi',\n",
       " 'Raja',\n",
       " 'Rajesh',\n",
       " 'Ramesh',\n",
       " 'Ramya',\n",
       " 'Ravi',\n",
       " 'Savithri',\n",
       " 'Sravani',\n",
       " 'Surendher',\n",
       " 'Vaishnavi',\n",
       " 'Venky',\n",
       " 'Vimal',\n",
       " 'Vineeth',\n",
       " 'Yadav']"
      ]
     },
     "execution_count": 3,
     "metadata": {},
     "output_type": "execute_result"
    }
   ],
   "source": [
    "print(\"[INFO] loading images...\")\n",
    "location = \"/home/ravi/projects/gitex/face/images(copy)\"\n",
    "imagePaths = list(paths.list_images(location))\n",
    "classNames = [pt.split(os.path.sep)[-2] for pt in imagePaths]\n",
    "classNames = [str(x) for x in np.unique(classNames)]\n",
    "classNames"
   ]
  },
  {
   "cell_type": "code",
   "execution_count": 4,
   "metadata": {},
   "outputs": [
    {
     "data": {
      "text/plain": [
       "['/home/ravi/projects/gitex/face/images(copy)/Abdullah/228.jpg',\n",
       " '/home/ravi/projects/gitex/face/images(copy)/Abdullah/116.jpg',\n",
       " '/home/ravi/projects/gitex/face/images(copy)/Abdullah/180.jpg',\n",
       " '/home/ravi/projects/gitex/face/images(copy)/Abdullah/136.jpg',\n",
       " '/home/ravi/projects/gitex/face/images(copy)/Abdullah/220.jpg',\n",
       " '/home/ravi/projects/gitex/face/images(copy)/Abdullah/172.jpg',\n",
       " '/home/ravi/projects/gitex/face/images(copy)/Abdullah/168.jpg',\n",
       " '/home/ravi/projects/gitex/face/images(copy)/Abdullah/164.jpg',\n",
       " '/home/ravi/projects/gitex/face/images(copy)/Abdullah/148.jpg',\n",
       " '/home/ravi/projects/gitex/face/images(copy)/Abdullah/128.jpg',\n",
       " '/home/ravi/projects/gitex/face/images(copy)/Abdullah/80.jpg',\n",
       " '/home/ravi/projects/gitex/face/images(copy)/Abdullah/144.jpg',\n",
       " '/home/ravi/projects/gitex/face/images(copy)/Abdullah/152.jpg',\n",
       " '/home/ravi/projects/gitex/face/images(copy)/Abdullah/264.jpg',\n",
       " '/home/ravi/projects/gitex/face/images(copy)/Abdullah/112.jpg',\n",
       " '/home/ravi/projects/gitex/face/images(copy)/Abdullah/52.jpg',\n",
       " '/home/ravi/projects/gitex/face/images(copy)/Abdullah/256.jpg',\n",
       " '/home/ravi/projects/gitex/face/images(copy)/Abdullah/156.jpg',\n",
       " '/home/ravi/projects/gitex/face/images(copy)/Abdullah/100.jpg',\n",
       " '/home/ravi/projects/gitex/face/images(copy)/Abdullah/64.jpg',\n",
       " '/home/ravi/projects/gitex/face/images(copy)/Abdullah/240.jpg',\n",
       " '/home/ravi/projects/gitex/face/images(copy)/Abdullah/120.jpg',\n",
       " '/home/ravi/projects/gitex/face/images(copy)/Abdullah/44.jpg',\n",
       " '/home/ravi/projects/gitex/face/images(copy)/Abdullah/48.jpg',\n",
       " '/home/ravi/projects/gitex/face/images(copy)/Abdullah/188.jpg',\n",
       " '/home/ravi/projects/gitex/face/images(copy)/Abdullah/160.jpg',\n",
       " '/home/ravi/projects/gitex/face/images(copy)/Abdullah/60.jpg',\n",
       " '/home/ravi/projects/gitex/face/images(copy)/Abdullah/140.jpg',\n",
       " '/home/ravi/projects/gitex/face/images(copy)/Abdullah/96.jpg',\n",
       " '/home/ravi/projects/gitex/face/images(copy)/Abdullah/36.jpg',\n",
       " '/home/ravi/projects/gitex/face/images(copy)/Abdullah/28.jpg',\n",
       " '/home/ravi/projects/gitex/face/images(copy)/Abdullah/92.jpg',\n",
       " '/home/ravi/projects/gitex/face/images(copy)/Abdullah/84.jpg',\n",
       " '/home/ravi/projects/gitex/face/images(copy)/Abdullah/12.jpg',\n",
       " '/home/ravi/projects/gitex/face/images(copy)/Abdullah/208.jpg',\n",
       " '/home/ravi/projects/gitex/face/images(copy)/Abdullah/212.jpg',\n",
       " '/home/ravi/projects/gitex/face/images(copy)/Abdullah/72.jpg',\n",
       " '/home/ravi/projects/gitex/face/images(copy)/Abdullah/184.jpg',\n",
       " '/home/ravi/projects/gitex/face/images(copy)/Abdullah/252.jpg',\n",
       " '/home/ravi/projects/gitex/face/images(copy)/Abdullah/4.jpg',\n",
       " '/home/ravi/projects/gitex/face/images(copy)/Abdullah/132.jpg',\n",
       " '/home/ravi/projects/gitex/face/images(copy)/Abdullah/192.jpg',\n",
       " '/home/ravi/projects/gitex/face/images(copy)/Abdullah/0.jpg',\n",
       " '/home/ravi/projects/gitex/face/images(copy)/Abdullah/20.jpg',\n",
       " '/home/ravi/projects/gitex/face/images(copy)/Abdullah/276.jpg',\n",
       " '/home/ravi/projects/gitex/face/images(copy)/Abdullah/216.jpg',\n",
       " '/home/ravi/projects/gitex/face/images(copy)/Abdullah/24.jpg',\n",
       " '/home/ravi/projects/gitex/face/images(copy)/Abdullah/268.jpg',\n",
       " '/home/ravi/projects/gitex/face/images(copy)/Abdullah/248.jpg',\n",
       " '/home/ravi/projects/gitex/face/images(copy)/Abdullah/260.jpg',\n",
       " '/home/ravi/projects/gitex/face/images(copy)/Abdullah/232.jpg',\n",
       " '/home/ravi/projects/gitex/face/images(copy)/Abdullah/56.jpg',\n",
       " '/home/ravi/projects/gitex/face/images(copy)/Abdullah/224.jpg',\n",
       " '/home/ravi/projects/gitex/face/images(copy)/Abdullah/272.jpg',\n",
       " '/home/ravi/projects/gitex/face/images(copy)/Abdullah/108.jpg',\n",
       " '/home/ravi/projects/gitex/face/images(copy)/Abdullah/8.jpg',\n",
       " '/home/ravi/projects/gitex/face/images(copy)/Abdullah/16.jpg',\n",
       " '/home/ravi/projects/gitex/face/images(copy)/Abdullah/200.jpg',\n",
       " '/home/ravi/projects/gitex/face/images(copy)/Abdullah/40.jpg',\n",
       " '/home/ravi/projects/gitex/face/images(copy)/Abdullah/124.jpg',\n",
       " '/home/ravi/projects/gitex/face/images(copy)/Abdullah/204.jpg',\n",
       " '/home/ravi/projects/gitex/face/images(copy)/Abdullah/104.jpg',\n",
       " '/home/ravi/projects/gitex/face/images(copy)/Abdullah/32.jpg',\n",
       " '/home/ravi/projects/gitex/face/images(copy)/Abdullah/236.jpg',\n",
       " '/home/ravi/projects/gitex/face/images(copy)/Abdullah/176.jpg',\n",
       " '/home/ravi/projects/gitex/face/images(copy)/Abdullah/196.jpg',\n",
       " '/home/ravi/projects/gitex/face/images(copy)/Abdullah/76.jpg',\n",
       " '/home/ravi/projects/gitex/face/images(copy)/Abdullah/244.jpg',\n",
       " '/home/ravi/projects/gitex/face/images(copy)/Abdullah/88.jpg',\n",
       " '/home/ravi/projects/gitex/face/images(copy)/Abdullah/68.jpg']"
      ]
     },
     "execution_count": 4,
     "metadata": {},
     "output_type": "execute_result"
    }
   ],
   "source": [
    "images = list(paths.list_images(location+'/'+classNames[0]))\n",
    "images"
   ]
  },
  {
   "cell_type": "code",
   "execution_count": 5,
   "metadata": {},
   "outputs": [],
   "source": [
    "labels = {}\n",
    "import cv2\n",
    "def get_data(size, total_sample_size1, total_sample_size_2):\n",
    "    count = 0\n",
    "    dim1 = 64\n",
    "    dim2 = 48\n",
    "    #initialize the numpy array with the shape of [total_sample, no_of_pairs, dim1, dim2]\n",
    "    x_geuine_pair = np.zeros([total_sample_size_1, 2, 1, dim2, dim1])  # 2 is for pairs\n",
    "    y_genuine = np.zeros([total_sample_size_1, 1])\n",
    "    \n",
    "    for i in range(len(classNames)):\n",
    "        images = list(paths.list_images(location+'/'+classNames[i]))\n",
    "        temp = 1\n",
    "        for j in range(len(images)-1):\n",
    "            img1 = cv2.imread(images[j],0)\n",
    "            img2 = cv2.imread(images[temp],0)\n",
    "            img1 = cv2.resize(img1,(dim1,dim2),interpolation=cv2.INTER_AREA)\n",
    "            img2 = cv2.resize(img2,(dim1,dim2),interpolation=cv2.INTER_AREA)\n",
    "            x_geuine_pair[count, 0, 0, :, :] = img1\n",
    "            x_geuine_pair[count, 1, 0, :, :] = img2\n",
    "            cv2.imshow('1',img1)\n",
    "            cv2.imshow('2',img2)\n",
    "            #as we are drawing images from the same directory we assign label as 1. (genuine pair)\n",
    "            y_genuine[count] = 1\n",
    "            count += 1\n",
    "            temp +=1\n",
    "            labels[count] = classNames[i]\n",
    "            if cv2.waitKey(1) & 0xFF == ord('q'):\n",
    "                break\n",
    "            #print(temp)\n",
    "        print(count)\n",
    "    cv2.destroyAllWindows()\n",
    "    \n",
    "    count = 0\n",
    "    x_imposite_pair = np.zeros([total_sample_size_2, 2, 1, dim2, dim1])\n",
    "    y_imposite = np.zeros([total_sample_size_2, 1])\n",
    "    \n",
    "    for i in range(len(classNames)):\n",
    "        images = list(paths.list_images(location+'/'+classNames[i]))\n",
    "        rand_images = np.random.randint(len(images),size = 80)\n",
    "        other_images = list(set(paths.list_images(location))-set(images))\n",
    "        rand_other_images = np.random.randint(len(other_images),size = 80)\n",
    "        temp = 1\n",
    "        for j in range(80):\n",
    "            img1 = cv2.imread(images[rand_images[j]],0)\n",
    "            img2 = cv2.imread(other_images[rand_other_images[j]],0)\n",
    "            img1 = cv2.resize(img1,(dim1,dim2),interpolation=cv2.INTER_AREA)\n",
    "            img2 = cv2.resize(img2,(dim1,dim2),interpolation=cv2.INTER_AREA)\n",
    "            x_imposite_pair[count, 0, 0, :, :] = img1\n",
    "            x_imposite_pair[count, 1, 0, :, :] = img2\n",
    "            cv2.imshow('3',img1)\n",
    "            cv2.imshow('4',img2)\n",
    "            #as we are drawing images from the same directory we assign label as 1. (genuine pair)\n",
    "            y_imposite[count] = 0\n",
    "            count += 1\n",
    "            temp +=1\n",
    "            if cv2.waitKey(1) & 0xFF == ord('q'):\n",
    "                break\n",
    "            #print(temp)\n",
    "        print(count)\n",
    "    cv2.destroyAllWindows()\n",
    "            \n",
    "    #now, concatenate, genuine pairs and imposite pair to get the whole data\n",
    "    X = np.concatenate([x_geuine_pair, x_imposite_pair], axis=0)/255\n",
    "    Y = np.concatenate([y_genuine, y_imposite], axis=0)\n",
    "\n",
    "    return X, Y\n"
   ]
  },
  {
   "cell_type": "code",
   "execution_count": 6,
   "metadata": {},
   "outputs": [
    {
     "data": {
      "text/plain": [
       "0"
      ]
     },
     "execution_count": 6,
     "metadata": {},
     "output_type": "execute_result"
    }
   ],
   "source": [
    "len(labels)"
   ]
  },
  {
   "cell_type": "code",
   "execution_count": 7,
   "metadata": {
    "scrolled": true
   },
   "outputs": [
    {
     "name": "stdout",
     "output_type": "stream",
     "text": [
      "69\n",
      "138\n",
      "207\n",
      "276\n",
      "283\n",
      "352\n",
      "421\n",
      "425\n",
      "496\n",
      "565\n",
      "634\n",
      "703\n",
      "772\n",
      "841\n",
      "910\n",
      "979\n",
      "1048\n",
      "1117\n",
      "1186\n",
      "1255\n",
      "1324\n",
      "1328\n",
      "1397\n",
      "1401\n",
      "1470\n",
      "1539\n",
      "1608\n",
      "1677\n",
      "1746\n",
      "1815\n",
      "1887\n",
      "1897\n",
      "1966\n",
      "1970\n",
      "2039\n",
      "2108\n",
      "2112\n",
      "2181\n",
      "2185\n",
      "2254\n",
      "80\n",
      "160\n",
      "240\n",
      "320\n",
      "400\n",
      "480\n",
      "560\n",
      "640\n",
      "720\n",
      "800\n",
      "880\n",
      "960\n",
      "1040\n",
      "1120\n",
      "1200\n",
      "1280\n",
      "1360\n",
      "1440\n",
      "1520\n",
      "1600\n",
      "1680\n",
      "1760\n",
      "1840\n",
      "1920\n",
      "2000\n",
      "2080\n",
      "2160\n",
      "2240\n",
      "2320\n",
      "2400\n",
      "2480\n",
      "2560\n",
      "2640\n",
      "2720\n",
      "2800\n",
      "2880\n",
      "2960\n",
      "3040\n",
      "3120\n",
      "3200\n"
     ]
    }
   ],
   "source": [
    "size = 2\n",
    "total_sample_size_1 = 2254\n",
    "total_sample_size_2 = 3200\n",
    "X,Y = get_data(size, total_sample_size_1,total_sample_size_2)"
   ]
  },
  {
   "cell_type": "code",
   "execution_count": 8,
   "metadata": {},
   "outputs": [
    {
     "data": {
      "text/plain": [
       "array([[1.],\n",
       "       [1.],\n",
       "       [1.],\n",
       "       ...,\n",
       "       [0.],\n",
       "       [0.],\n",
       "       [0.]])"
      ]
     },
     "execution_count": 8,
     "metadata": {},
     "output_type": "execute_result"
    }
   ],
   "source": [
    "Y"
   ]
  },
  {
   "cell_type": "code",
   "execution_count": 9,
   "metadata": {},
   "outputs": [
    {
     "data": {
      "text/plain": [
       "(5454, 2, 1, 48, 64)"
      ]
     },
     "execution_count": 9,
     "metadata": {},
     "output_type": "execute_result"
    }
   ],
   "source": [
    "X.shape"
   ]
  },
  {
   "cell_type": "code",
   "execution_count": 10,
   "metadata": {},
   "outputs": [
    {
     "data": {
      "text/plain": [
       "(5454, 1)"
      ]
     },
     "execution_count": 10,
     "metadata": {},
     "output_type": "execute_result"
    }
   ],
   "source": [
    "Y.shape"
   ]
  },
  {
   "cell_type": "code",
   "execution_count": 11,
   "metadata": {},
   "outputs": [],
   "source": [
    "x_train, x_test, y_train, y_test = train_test_split(X, Y, test_size=.25)"
   ]
  },
  {
   "cell_type": "code",
   "execution_count": 12,
   "metadata": {},
   "outputs": [],
   "source": [
    "def build_base_network(input_shape):\n",
    "    \n",
    "    seq = Sequential()\n",
    "    \n",
    "    nb_filter = [6, 12]\n",
    "    kernel_size = 3\n",
    "    \n",
    "    \n",
    "    #convolutional layer 1\n",
    "    seq.add(Convolution2D(nb_filter[0], kernel_size, kernel_size, input_shape=input_shape,\n",
    "                          border_mode='valid', dim_ordering='th'))\n",
    "    seq.add(Activation('relu'))\n",
    "    seq.add(MaxPooling2D(pool_size=(2, 2)))  \n",
    "    seq.add(Dropout(.25))\n",
    "    \n",
    "    #convolutional layer 2\n",
    "    seq.add(Convolution2D(nb_filter[1], kernel_size, kernel_size, border_mode='valid', dim_ordering='th'))\n",
    "    seq.add(Activation('relu'))\n",
    "    seq.add(MaxPooling2D(pool_size=(2, 2), dim_ordering='th')) \n",
    "    seq.add(Dropout(.25))\n",
    "\n",
    "    #flatten \n",
    "    seq.add(Flatten())\n",
    "    seq.add(Dense(128, activation='relu'))\n",
    "    seq.add(Dropout(0.1))\n",
    "    seq.add(Dense(50, activation='relu'))\n",
    "    return seq\n"
   ]
  },
  {
   "cell_type": "code",
   "execution_count": 13,
   "metadata": {},
   "outputs": [],
   "source": [
    "input_dim = x_train.shape[2:]\n",
    "img_a = Input(shape=input_dim)\n",
    "img_b = Input(shape=input_dim)"
   ]
  },
  {
   "cell_type": "code",
   "execution_count": 14,
   "metadata": {},
   "outputs": [
    {
     "name": "stdout",
     "output_type": "stream",
     "text": [
      "WARNING:tensorflow:From /home/ravi/landt/lib/python3.7/site-packages/tensorflow/python/framework/op_def_library.py:263: colocate_with (from tensorflow.python.framework.ops) is deprecated and will be removed in a future version.\n",
      "Instructions for updating:\n",
      "Colocations handled automatically by placer.\n"
     ]
    },
    {
     "name": "stderr",
     "output_type": "stream",
     "text": [
      "/home/ravi/landt/lib/python3.7/site-packages/ipykernel_launcher.py:11: UserWarning: Update your `Conv2D` call to the Keras 2 API: `Conv2D(6, (3, 3), input_shape=(1, 48, 64..., padding=\"valid\", data_format=\"channels_first\")`\n",
      "  # This is added back by InteractiveShellApp.init_path()\n"
     ]
    },
    {
     "name": "stdout",
     "output_type": "stream",
     "text": [
      "WARNING:tensorflow:From /home/ravi/landt/lib/python3.7/site-packages/keras/backend/tensorflow_backend.py:3733: calling dropout (from tensorflow.python.ops.nn_ops) with keep_prob is deprecated and will be removed in a future version.\n",
      "Instructions for updating:\n",
      "Please use `rate` instead of `keep_prob`. Rate should be set to `rate = 1 - keep_prob`.\n"
     ]
    },
    {
     "name": "stderr",
     "output_type": "stream",
     "text": [
      "/home/ravi/landt/lib/python3.7/site-packages/ipykernel_launcher.py:17: UserWarning: Update your `Conv2D` call to the Keras 2 API: `Conv2D(12, (3, 3), padding=\"valid\", data_format=\"channels_first\")`\n",
      "/home/ravi/landt/lib/python3.7/site-packages/ipykernel_launcher.py:19: UserWarning: Update your `MaxPooling2D` call to the Keras 2 API: `MaxPooling2D(pool_size=(2, 2), data_format=\"channels_first\")`\n"
     ]
    }
   ],
   "source": [
    "base_network = build_base_network(input_dim)\n",
    "feat_vecs_a = base_network(img_a)\n",
    "feat_vecs_b = base_network(img_b)"
   ]
  },
  {
   "cell_type": "code",
   "execution_count": 15,
   "metadata": {},
   "outputs": [],
   "source": [
    "def euclidean_distance(vects):\n",
    "    x, y = vects\n",
    "    return K.sqrt(K.sum(K.square(x - y), axis=1, keepdims=True))\n",
    "\n",
    "\n",
    "def eucl_dist_output_shape(shapes):\n",
    "    shape1, shape2 = shapes\n",
    "    return (shape1[0], 1)"
   ]
  },
  {
   "cell_type": "code",
   "execution_count": 16,
   "metadata": {},
   "outputs": [],
   "source": [
    "distance = Lambda(euclidean_distance, output_shape=eucl_dist_output_shape)([feat_vecs_a, feat_vecs_b])"
   ]
  },
  {
   "cell_type": "code",
   "execution_count": 17,
   "metadata": {},
   "outputs": [],
   "source": [
    "epochs = 30\n",
    "rms = RMSprop()"
   ]
  },
  {
   "cell_type": "code",
   "execution_count": 18,
   "metadata": {},
   "outputs": [
    {
     "name": "stderr",
     "output_type": "stream",
     "text": [
      "/home/ravi/landt/lib/python3.7/site-packages/ipykernel_launcher.py:1: UserWarning: Update your `Model` call to the Keras 2 API: `Model(inputs=[<tf.Tenso..., outputs=Tensor(\"la...)`\n",
      "  \"\"\"Entry point for launching an IPython kernel.\n"
     ]
    }
   ],
   "source": [
    "model = Model(input=[img_a, img_b], output=distance)"
   ]
  },
  {
   "cell_type": "code",
   "execution_count": 19,
   "metadata": {},
   "outputs": [],
   "source": [
    "def contrastive_loss(y_true, y_pred):\n",
    "    margin = 1\n",
    "    return K.mean(y_true * K.square(y_pred) + (1 - y_true) * K.square(K.maximum(margin - y_pred, 0)))"
   ]
  },
  {
   "cell_type": "code",
   "execution_count": 20,
   "metadata": {},
   "outputs": [],
   "source": [
    "model.compile(loss=contrastive_loss, optimizer=rms)"
   ]
  },
  {
   "cell_type": "code",
   "execution_count": 21,
   "metadata": {},
   "outputs": [],
   "source": [
    "img_1 = x_train[:, 0]\n",
    "img2 = x_train[:, 1]"
   ]
  },
  {
   "cell_type": "code",
   "execution_count": 22,
   "metadata": {},
   "outputs": [
    {
     "data": {
      "text/plain": [
       "(1, 48, 64)"
      ]
     },
     "execution_count": 22,
     "metadata": {},
     "output_type": "execute_result"
    }
   ],
   "source": [
    "x_train[0,1].shape"
   ]
  },
  {
   "cell_type": "code",
   "execution_count": 23,
   "metadata": {
    "scrolled": true
   },
   "outputs": [
    {
     "name": "stdout",
     "output_type": "stream",
     "text": [
      "WARNING:tensorflow:From /home/ravi/landt/lib/python3.7/site-packages/tensorflow/python/ops/math_ops.py:3066: to_int32 (from tensorflow.python.ops.math_ops) is deprecated and will be removed in a future version.\n",
      "Instructions for updating:\n",
      "Use tf.cast instead.\n"
     ]
    },
    {
     "name": "stderr",
     "output_type": "stream",
     "text": [
      "/home/ravi/landt/lib/python3.7/site-packages/ipykernel_launcher.py:4: UserWarning: The `nb_epoch` argument in `fit` has been renamed `epochs`.\n",
      "  after removing the cwd from sys.path.\n"
     ]
    },
    {
     "name": "stdout",
     "output_type": "stream",
     "text": [
      "Train on 3067 samples, validate on 1023 samples\n",
      "Epoch 1/30\n",
      " - 2s - loss: 0.2883 - val_loss: 0.2565\n",
      "Epoch 2/30\n",
      " - 0s - loss: 0.1728 - val_loss: 0.1994\n",
      "Epoch 3/30\n",
      " - 0s - loss: 0.1345 - val_loss: 0.1544\n",
      "Epoch 4/30\n",
      " - 0s - loss: 0.1135 - val_loss: 0.1166\n",
      "Epoch 5/30\n",
      " - 0s - loss: 0.1015 - val_loss: 0.1162\n",
      "Epoch 6/30\n",
      " - 0s - loss: 0.0896 - val_loss: 0.0992\n",
      "Epoch 7/30\n",
      " - 0s - loss: 0.0827 - val_loss: 0.0978\n",
      "Epoch 8/30\n",
      " - 0s - loss: 0.0741 - val_loss: 0.1006\n",
      "Epoch 9/30\n",
      " - 0s - loss: 0.0746 - val_loss: 0.0956\n",
      "Epoch 10/30\n",
      " - 0s - loss: 0.0685 - val_loss: 0.1359\n",
      "Epoch 11/30\n",
      " - 0s - loss: 0.0675 - val_loss: 0.1087\n",
      "Epoch 12/30\n",
      " - 0s - loss: 0.0634 - val_loss: 0.0967\n",
      "Epoch 13/30\n",
      " - 0s - loss: 0.0608 - val_loss: 0.0783\n",
      "Epoch 14/30\n",
      " - 0s - loss: 0.0600 - val_loss: 0.0883\n",
      "Epoch 15/30\n",
      " - 0s - loss: 0.0580 - val_loss: 0.0749\n",
      "Epoch 16/30\n",
      " - 0s - loss: 0.0574 - val_loss: 0.0825\n",
      "Epoch 17/30\n",
      " - 0s - loss: 0.0558 - val_loss: 0.0628\n",
      "Epoch 18/30\n",
      " - 0s - loss: 0.0530 - val_loss: 0.0573\n",
      "Epoch 19/30\n",
      " - 0s - loss: 0.0529 - val_loss: 0.0557\n",
      "Epoch 20/30\n",
      " - 0s - loss: 0.0528 - val_loss: 0.0564\n",
      "Epoch 21/30\n",
      " - 0s - loss: 0.0511 - val_loss: 0.0521\n",
      "Epoch 22/30\n",
      " - 0s - loss: 0.0483 - val_loss: 0.0507\n",
      "Epoch 23/30\n",
      " - 0s - loss: 0.0475 - val_loss: 0.0567\n",
      "Epoch 24/30\n",
      " - 0s - loss: 0.0443 - val_loss: 0.0551\n",
      "Epoch 25/30\n",
      " - 0s - loss: 0.0442 - val_loss: 0.0442\n",
      "Epoch 26/30\n",
      " - 0s - loss: 0.0446 - val_loss: 0.0308\n",
      "Epoch 27/30\n",
      " - 0s - loss: 0.0442 - val_loss: 0.0328\n",
      "Epoch 28/30\n",
      " - 0s - loss: 0.0432 - val_loss: 0.0393\n",
      "Epoch 29/30\n",
      " - 0s - loss: 0.0426 - val_loss: 0.0318\n",
      "Epoch 30/30\n",
      " - 0s - loss: 0.0394 - val_loss: 0.0343\n"
     ]
    },
    {
     "data": {
      "text/plain": [
       "<keras.callbacks.History at 0x7f64f85cab00>"
      ]
     },
     "execution_count": 23,
     "metadata": {},
     "output_type": "execute_result"
    }
   ],
   "source": [
    "#earlyStopping = EarlyStopping(monitor='val_loss', patience=10, verbose=0, mode='min')\n",
    "#mcp_save = ModelCheckpoint('.best.hdf5', save_best_only=True, monitor='val_loss', mode='min')\n",
    "model.fit([img_1, img2], y_train, validation_split=.25,\n",
    "          batch_size=128, verbose=2, nb_epoch=epochs)"
   ]
  },
  {
   "cell_type": "code",
   "execution_count": 24,
   "metadata": {},
   "outputs": [],
   "source": [
    "pred = model.predict([x_test[:,0], x_test[:,1]])"
   ]
  },
  {
   "cell_type": "code",
   "execution_count": 25,
   "metadata": {},
   "outputs": [],
   "source": [
    "def compute_accuracy(predictions, labels):\n",
    "    return labels[predictions.ravel() < 0.5].mean()"
   ]
  },
  {
   "cell_type": "code",
   "execution_count": 26,
   "metadata": {},
   "outputs": [
    {
     "data": {
      "text/plain": [
       "0.904610492845787"
      ]
     },
     "execution_count": 26,
     "metadata": {},
     "output_type": "execute_result"
    }
   ],
   "source": [
    "compute_accuracy(pred, y_test)"
   ]
  },
  {
   "cell_type": "code",
   "execution_count": 27,
   "metadata": {},
   "outputs": [
    {
     "data": {
      "image/png": "[encoded data removed]",
      "text/plain": [
       "<PIL.JpegImagePlugin.JpegImageFile image mode=RGB size=250x250 at 0x7F651C028F28>"
      ]
     },
     "execution_count": 27,
     "metadata": {},
     "output_type": "execute_result"
    }
   ],
   "source": [
    "Image.open('/home/ravi/projects/gitex/FaceRec/images/Bill_Clinton/Bill_Clinton_0005.jpg')"
   ]
  },
  {
   "cell_type": "code",
   "execution_count": 28,
   "metadata": {},
   "outputs": [
    {
     "data": {
      "text/plain": [
       "(2, 1, 48, 64)"
      ]
     },
     "execution_count": 28,
     "metadata": {},
     "output_type": "execute_result"
    }
   ],
   "source": [
    "x_train[10].shape"
   ]
  },
  {
   "cell_type": "code",
   "execution_count": 29,
   "metadata": {},
   "outputs": [],
   "source": [
    "dim1 = 64\n",
    "dim2 = 48\n",
    "img1 = cv2.imread('/home/ravi/projects/gitex/FaceRec/test/1276683_10151812542555956_1766883197_o.jpg',0)\n",
    "img2 = cv2.imread('/home/ravi/projects/gitex/FaceRec/images/Alan/20190906_153855.jpg',0)\n",
    "img1 = cv2.resize(img1,(dim1,dim2),interpolation=cv2.INTER_AREA)\n",
    "img2 = cv2.resize(img2,(dim1,dim2),interpolation=cv2.INTER_AREA)"
   ]
  },
  {
   "cell_type": "code",
   "execution_count": 30,
   "metadata": {},
   "outputs": [],
   "source": [
    "x_test_pair = np.zeros([1, 2, 1, dim2, dim1])\n",
    "x_test_pair[0, 0, 0, :, :]= img1/255\n",
    "x_test_pair[0, 1, 0, :, :] = img2/255"
   ]
  },
  {
   "cell_type": "code",
   "execution_count": 31,
   "metadata": {},
   "outputs": [
    {
     "data": {
      "text/plain": [
       "0.50836885"
      ]
     },
     "execution_count": 31,
     "metadata": {},
     "output_type": "execute_result"
    }
   ],
   "source": [
    "pred = model.predict([x_test_pair[:,0], x_test_pair[:,1]])\n",
    "pred[0][0]"
   ]
  },
  {
   "cell_type": "code",
   "execution_count": 32,
   "metadata": {},
   "outputs": [],
   "source": [
    "genuine = X[:2254]"
   ]
  },
  {
   "cell_type": "code",
   "execution_count": null,
   "metadata": {},
   "outputs": [],
   "source": [
    "prediction = model.predict([x_test_pair[:,1], genuine[:,0]])"
   ]
  },
  {
   "cell_type": "code",
   "execution_count": null,
   "metadata": {},
   "outputs": [],
   "source": [
    "prediction = model.predict([test, genuine[:,0]])"
   ]
  },
  {
   "cell_type": "code",
   "execution_count": null,
   "metadata": {},
   "outputs": [],
   "source": [
    "x_test_pair[:,1].shape"
   ]
  },
  {
   "cell_type": "code",
   "execution_count": null,
   "metadata": {},
   "outputs": [],
   "source": [
    "genuine[:,0].shape"
   ]
  },
  {
   "cell_type": "code",
   "execution_count": null,
   "metadata": {},
   "outputs": [],
   "source": [
    "x_test_pair[:,1]"
   ]
  },
  {
   "cell_type": "code",
   "execution_count": 1,
   "metadata": {},
   "outputs": [
    {
     "ename": "NameError",
     "evalue": "name 'np' is not defined",
     "output_type": "error",
     "traceback": [
      "\u001b[0;31m---------------------------------------------------------------------------\u001b[0m",
      "\u001b[0;31mNameError\u001b[0m                                 Traceback (most recent call last)",
      "\u001b[0;32m<ipython-input-1-e29a546dabc0>\u001b[0m in \u001b[0;36m<module>\u001b[0;34m\u001b[0m\n\u001b[0;32m----> 1\u001b[0;31m \u001b[0mtest\u001b[0m  \u001b[0;34m=\u001b[0m \u001b[0mnp\u001b[0m\u001b[0;34m.\u001b[0m\u001b[0mbroadcast_to\u001b[0m\u001b[0;34m(\u001b[0m\u001b[0mx_test_pair\u001b[0m\u001b[0;34m[\u001b[0m\u001b[0;34m:\u001b[0m\u001b[0;34m,\u001b[0m\u001b[0;36m1\u001b[0m\u001b[0;34m]\u001b[0m\u001b[0;34m,\u001b[0m \u001b[0mgenuine\u001b[0m\u001b[0;34m[\u001b[0m\u001b[0;34m:\u001b[0m\u001b[0;34m,\u001b[0m\u001b[0;36m0\u001b[0m\u001b[0;34m]\u001b[0m\u001b[0;34m.\u001b[0m\u001b[0mshape\u001b[0m\u001b[0;34m)\u001b[0m\u001b[0;34m\u001b[0m\u001b[0;34m\u001b[0m\u001b[0m\n\u001b[0m",
      "\u001b[0;31mNameError\u001b[0m: name 'np' is not defined"
     ]
    }
   ],
   "source": [
    "test  = np.broadcast_to(x_test_pair[:,1], genuine[:,0].shape)"
   ]
  },
  {
   "cell_type": "code",
   "execution_count": null,
   "metadata": {},
   "outputs": [],
   "source": [
    "prediction"
   ]
  },
  {
   "cell_type": "code",
   "execution_count": null,
   "metadata": {},
   "outputs": [],
   "source": [
    "minElement = np.amin(prediction)\n",
    "print('Printing min Element',minElement)\n",
    "e =  np.where(prediction == np.amin(prediction))\n",
    "e"
   ]
  },
  {
   "cell_type": "code",
   "execution_count": null,
   "metadata": {},
   "outputs": [],
   "source": [
    "labels[e[0][0]]"
   ]
  },
  {
   "cell_type": "code",
   "execution_count": 33,
   "metadata": {},
   "outputs": [
    {
     "name": "stdout",
     "output_type": "stream",
     "text": [
      "Loading MTCNN Face detection model\n",
      "WARNING:tensorflow:From /home/ravi/projects/gitex/FaceRec/mtcnn_detect.py:348: calling reduce_max_v1 (from tensorflow.python.ops.math_ops) with keep_dims is deprecated and will be removed in a future version.\n",
      "Instructions for updating:\n",
      "keep_dims is deprecated, use keepdims instead\n",
      "WARNING:tensorflow:From /home/ravi/projects/gitex/FaceRec/mtcnn_detect.py:350: calling reduce_sum_v1 (from tensorflow.python.ops.math_ops) with keep_dims is deprecated and will be removed in a future version.\n",
      "Instructions for updating:\n",
      "keep_dims is deprecated, use keepdims instead\n",
      "WARNING:tensorflow:From /home/ravi/projects/gitex/FaceRec/mtcnn_detect.py:351: div (from tensorflow.python.ops.math_ops) is deprecated and will be removed in a future version.\n",
      "Instructions for updating:\n",
      "Deprecated in favor of operator or tf.math.divide.\n",
      "MTCNN Model loaded\n"
     ]
    }
   ],
   "source": [
    "from align_custom import AlignCustom\n",
    "from face_feature import FaceFeature\n",
    "aligner = AlignCustom();\n",
    "from mtcnn_detect import MTCNNDetect\n",
    "from tf_graph import FaceRecGraph\n",
    "import tensorflow as tf\n",
    "from keras import backend as k\n",
    "\n",
    "MTCNNGraph = FaceRecGraph();\n",
    "face_detect = MTCNNDetect(MTCNNGraph, scale_factor=1);\n",
    "config = tf.ConfigProto()\n",
    " \n",
    "# Don't pre-allocate memory; allocate as-needed\n",
    "config.gpu_options.allow_growth = True\n",
    "\n",
    "# Only allow a total of half the GPU memory to be allocated\n",
    "config.gpu_options.per_process_gpu_memory_fraction = 0.5\n",
    "\n",
    "# Create a session with the above options specified.\n",
    "k.tensorflow_backend.set_session(tf.Session(config=config))"
   ]
  },
  {
   "cell_type": "code",
   "execution_count": 34,
   "metadata": {},
   "outputs": [
    {
     "name": "stdout",
     "output_type": "stream",
     "text": [
      "(2254, 1, 48, 64)\n",
      "(2254, 1, 48, 64)\n"
     ]
    },
    {
     "ename": "FailedPreconditionError",
     "evalue": "Attempting to use uninitialized value dense_2/bias\n\t [[{{node dense_2/bias/read}}]]\n\t [[{{node lambda_1/Sqrt}}]]",
     "output_type": "error",
     "traceback": [
      "\u001b[0;31m---------------------------------------------------------------------------\u001b[0m",
      "\u001b[0;31mFailedPreconditionError\u001b[0m                   Traceback (most recent call last)",
      "\u001b[0;32m<ipython-input-34-5b4c820b72be>\u001b[0m in \u001b[0;36m<module>\u001b[0;34m\u001b[0m\n\u001b[1;32m     22\u001b[0m         \u001b[0mprint\u001b[0m\u001b[0;34m(\u001b[0m\u001b[0mtest\u001b[0m\u001b[0;34m.\u001b[0m\u001b[0mshape\u001b[0m\u001b[0;34m)\u001b[0m\u001b[0;34m\u001b[0m\u001b[0;34m\u001b[0m\u001b[0m\n\u001b[1;32m     23\u001b[0m         \u001b[0mprint\u001b[0m\u001b[0;34m(\u001b[0m\u001b[0mgenuine\u001b[0m\u001b[0;34m[\u001b[0m\u001b[0;34m:\u001b[0m\u001b[0;34m,\u001b[0m\u001b[0;36m0\u001b[0m\u001b[0;34m]\u001b[0m\u001b[0;34m.\u001b[0m\u001b[0mshape\u001b[0m\u001b[0;34m)\u001b[0m\u001b[0;34m\u001b[0m\u001b[0;34m\u001b[0m\u001b[0m\n\u001b[0;32m---> 24\u001b[0;31m         \u001b[0mprediction\u001b[0m \u001b[0;34m=\u001b[0m \u001b[0mmodel\u001b[0m\u001b[0;34m.\u001b[0m\u001b[0mpredict\u001b[0m\u001b[0;34m(\u001b[0m\u001b[0;34m[\u001b[0m\u001b[0mtest\u001b[0m\u001b[0;34m,\u001b[0m \u001b[0mgenuine\u001b[0m\u001b[0;34m[\u001b[0m\u001b[0;34m:\u001b[0m\u001b[0;34m,\u001b[0m\u001b[0;36m0\u001b[0m\u001b[0;34m]\u001b[0m\u001b[0;34m]\u001b[0m\u001b[0;34m)\u001b[0m\u001b[0;34m\u001b[0m\u001b[0;34m\u001b[0m\u001b[0m\n\u001b[0m\u001b[1;32m     25\u001b[0m         \u001b[0mminElement\u001b[0m \u001b[0;34m=\u001b[0m \u001b[0mnp\u001b[0m\u001b[0;34m.\u001b[0m\u001b[0mamin\u001b[0m\u001b[0;34m(\u001b[0m\u001b[0mprediction\u001b[0m\u001b[0;34m)\u001b[0m\u001b[0;34m\u001b[0m\u001b[0;34m\u001b[0m\u001b[0m\n\u001b[1;32m     26\u001b[0m         \u001b[0mprint\u001b[0m\u001b[0;34m(\u001b[0m\u001b[0;34m'Printing min Element'\u001b[0m\u001b[0;34m,\u001b[0m\u001b[0mminElement\u001b[0m\u001b[0;34m)\u001b[0m\u001b[0;34m\u001b[0m\u001b[0;34m\u001b[0m\u001b[0m\n",
      "\u001b[0;32m~/landt/lib/python3.7/site-packages/keras/engine/training.py\u001b[0m in \u001b[0;36mpredict\u001b[0;34m(self, x, batch_size, verbose, steps, callbacks, max_queue_size, workers, use_multiprocessing)\u001b[0m\n\u001b[1;32m   1399\u001b[0m                                             \u001b[0mverbose\u001b[0m\u001b[0;34m=\u001b[0m\u001b[0mverbose\u001b[0m\u001b[0;34m,\u001b[0m\u001b[0;34m\u001b[0m\u001b[0;34m\u001b[0m\u001b[0m\n\u001b[1;32m   1400\u001b[0m                                             \u001b[0msteps\u001b[0m\u001b[0;34m=\u001b[0m\u001b[0msteps\u001b[0m\u001b[0;34m,\u001b[0m\u001b[0;34m\u001b[0m\u001b[0;34m\u001b[0m\u001b[0m\n\u001b[0;32m-> 1401\u001b[0;31m                                             callbacks=callbacks)\n\u001b[0m\u001b[1;32m   1402\u001b[0m \u001b[0;34m\u001b[0m\u001b[0m\n\u001b[1;32m   1403\u001b[0m     def train_on_batch(self, x, y,\n",
      "\u001b[0;32m~/landt/lib/python3.7/site-packages/keras/engine/training_arrays.py\u001b[0m in \u001b[0;36mpredict_loop\u001b[0;34m(model, f, ins, batch_size, verbose, steps, callbacks)\u001b[0m\n\u001b[1;32m    330\u001b[0m             \u001b[0mbatch_logs\u001b[0m \u001b[0;34m=\u001b[0m \u001b[0;34m{\u001b[0m\u001b[0;34m'batch'\u001b[0m\u001b[0;34m:\u001b[0m \u001b[0mbatch_index\u001b[0m\u001b[0;34m,\u001b[0m \u001b[0;34m'size'\u001b[0m\u001b[0;34m:\u001b[0m \u001b[0mlen\u001b[0m\u001b[0;34m(\u001b[0m\u001b[0mbatch_ids\u001b[0m\u001b[0;34m)\u001b[0m\u001b[0;34m}\u001b[0m\u001b[0;34m\u001b[0m\u001b[0;34m\u001b[0m\u001b[0m\n\u001b[1;32m    331\u001b[0m             \u001b[0mcallbacks\u001b[0m\u001b[0;34m.\u001b[0m\u001b[0m_call_batch_hook\u001b[0m\u001b[0;34m(\u001b[0m\u001b[0;34m'predict'\u001b[0m\u001b[0;34m,\u001b[0m \u001b[0;34m'begin'\u001b[0m\u001b[0;34m,\u001b[0m \u001b[0mbatch_index\u001b[0m\u001b[0;34m,\u001b[0m \u001b[0mbatch_logs\u001b[0m\u001b[0;34m)\u001b[0m\u001b[0;34m\u001b[0m\u001b[0;34m\u001b[0m\u001b[0m\n\u001b[0;32m--> 332\u001b[0;31m             \u001b[0mbatch_outs\u001b[0m \u001b[0;34m=\u001b[0m \u001b[0mf\u001b[0m\u001b[0;34m(\u001b[0m\u001b[0mins_batch\u001b[0m\u001b[0;34m)\u001b[0m\u001b[0;34m\u001b[0m\u001b[0;34m\u001b[0m\u001b[0m\n\u001b[0m\u001b[1;32m    333\u001b[0m             \u001b[0mbatch_outs\u001b[0m \u001b[0;34m=\u001b[0m \u001b[0mto_list\u001b[0m\u001b[0;34m(\u001b[0m\u001b[0mbatch_outs\u001b[0m\u001b[0;34m)\u001b[0m\u001b[0;34m\u001b[0m\u001b[0;34m\u001b[0m\u001b[0m\n\u001b[1;32m    334\u001b[0m             \u001b[0;32mif\u001b[0m \u001b[0mbatch_index\u001b[0m \u001b[0;34m==\u001b[0m \u001b[0;36m0\u001b[0m\u001b[0;34m:\u001b[0m\u001b[0;34m\u001b[0m\u001b[0;34m\u001b[0m\u001b[0m\n",
      "\u001b[0;32m~/landt/lib/python3.7/site-packages/keras/backend/tensorflow_backend.py\u001b[0m in \u001b[0;36m__call__\u001b[0;34m(self, inputs)\u001b[0m\n\u001b[1;32m   2977\u001b[0m                     \u001b[0;32mreturn\u001b[0m \u001b[0mself\u001b[0m\u001b[0;34m.\u001b[0m\u001b[0m_legacy_call\u001b[0m\u001b[0;34m(\u001b[0m\u001b[0minputs\u001b[0m\u001b[0;34m)\u001b[0m\u001b[0;34m\u001b[0m\u001b[0;34m\u001b[0m\u001b[0m\n\u001b[1;32m   2978\u001b[0m \u001b[0;34m\u001b[0m\u001b[0m\n\u001b[0;32m-> 2979\u001b[0;31m             \u001b[0;32mreturn\u001b[0m \u001b[0mself\u001b[0m\u001b[0;34m.\u001b[0m\u001b[0m_call\u001b[0m\u001b[0;34m(\u001b[0m\u001b[0minputs\u001b[0m\u001b[0;34m)\u001b[0m\u001b[0;34m\u001b[0m\u001b[0;34m\u001b[0m\u001b[0m\n\u001b[0m\u001b[1;32m   2980\u001b[0m         \u001b[0;32melse\u001b[0m\u001b[0;34m:\u001b[0m\u001b[0;34m\u001b[0m\u001b[0;34m\u001b[0m\u001b[0m\n\u001b[1;32m   2981\u001b[0m             \u001b[0;32mif\u001b[0m \u001b[0mpy_any\u001b[0m\u001b[0;34m(\u001b[0m\u001b[0mis_tensor\u001b[0m\u001b[0;34m(\u001b[0m\u001b[0mx\u001b[0m\u001b[0;34m)\u001b[0m \u001b[0;32mfor\u001b[0m \u001b[0mx\u001b[0m \u001b[0;32min\u001b[0m \u001b[0minputs\u001b[0m\u001b[0;34m)\u001b[0m\u001b[0;34m:\u001b[0m\u001b[0;34m\u001b[0m\u001b[0;34m\u001b[0m\u001b[0m\n",
      "\u001b[0;32m~/landt/lib/python3.7/site-packages/keras/backend/tensorflow_backend.py\u001b[0m in \u001b[0;36m_call\u001b[0;34m(self, inputs)\u001b[0m\n\u001b[1;32m   2935\u001b[0m             \u001b[0mfetched\u001b[0m \u001b[0;34m=\u001b[0m \u001b[0mself\u001b[0m\u001b[0;34m.\u001b[0m\u001b[0m_callable_fn\u001b[0m\u001b[0;34m(\u001b[0m\u001b[0;34m*\u001b[0m\u001b[0marray_vals\u001b[0m\u001b[0;34m,\u001b[0m \u001b[0mrun_metadata\u001b[0m\u001b[0;34m=\u001b[0m\u001b[0mself\u001b[0m\u001b[0;34m.\u001b[0m\u001b[0mrun_metadata\u001b[0m\u001b[0;34m)\u001b[0m\u001b[0;34m\u001b[0m\u001b[0;34m\u001b[0m\u001b[0m\n\u001b[1;32m   2936\u001b[0m         \u001b[0;32melse\u001b[0m\u001b[0;34m:\u001b[0m\u001b[0;34m\u001b[0m\u001b[0;34m\u001b[0m\u001b[0m\n\u001b[0;32m-> 2937\u001b[0;31m             \u001b[0mfetched\u001b[0m \u001b[0;34m=\u001b[0m \u001b[0mself\u001b[0m\u001b[0;34m.\u001b[0m\u001b[0m_callable_fn\u001b[0m\u001b[0;34m(\u001b[0m\u001b[0;34m*\u001b[0m\u001b[0marray_vals\u001b[0m\u001b[0;34m)\u001b[0m\u001b[0;34m\u001b[0m\u001b[0;34m\u001b[0m\u001b[0m\n\u001b[0m\u001b[1;32m   2938\u001b[0m         \u001b[0;32mreturn\u001b[0m \u001b[0mfetched\u001b[0m\u001b[0;34m[\u001b[0m\u001b[0;34m:\u001b[0m\u001b[0mlen\u001b[0m\u001b[0;34m(\u001b[0m\u001b[0mself\u001b[0m\u001b[0;34m.\u001b[0m\u001b[0moutputs\u001b[0m\u001b[0;34m)\u001b[0m\u001b[0;34m]\u001b[0m\u001b[0;34m\u001b[0m\u001b[0;34m\u001b[0m\u001b[0m\n\u001b[1;32m   2939\u001b[0m \u001b[0;34m\u001b[0m\u001b[0m\n",
      "\u001b[0;32m~/landt/lib/python3.7/site-packages/tensorflow/python/client/session.py\u001b[0m in \u001b[0;36m__call__\u001b[0;34m(self, *args, **kwargs)\u001b[0m\n\u001b[1;32m   1437\u001b[0m           ret = tf_session.TF_SessionRunCallable(\n\u001b[1;32m   1438\u001b[0m               \u001b[0mself\u001b[0m\u001b[0;34m.\u001b[0m\u001b[0m_session\u001b[0m\u001b[0;34m.\u001b[0m\u001b[0m_session\u001b[0m\u001b[0;34m,\u001b[0m \u001b[0mself\u001b[0m\u001b[0;34m.\u001b[0m\u001b[0m_handle\u001b[0m\u001b[0;34m,\u001b[0m \u001b[0margs\u001b[0m\u001b[0;34m,\u001b[0m \u001b[0mstatus\u001b[0m\u001b[0;34m,\u001b[0m\u001b[0;34m\u001b[0m\u001b[0;34m\u001b[0m\u001b[0m\n\u001b[0;32m-> 1439\u001b[0;31m               run_metadata_ptr)\n\u001b[0m\u001b[1;32m   1440\u001b[0m         \u001b[0;32mif\u001b[0m \u001b[0mrun_metadata\u001b[0m\u001b[0;34m:\u001b[0m\u001b[0;34m\u001b[0m\u001b[0;34m\u001b[0m\u001b[0m\n\u001b[1;32m   1441\u001b[0m           \u001b[0mproto_data\u001b[0m \u001b[0;34m=\u001b[0m \u001b[0mtf_session\u001b[0m\u001b[0;34m.\u001b[0m\u001b[0mTF_GetBuffer\u001b[0m\u001b[0;34m(\u001b[0m\u001b[0mrun_metadata_ptr\u001b[0m\u001b[0;34m)\u001b[0m\u001b[0;34m\u001b[0m\u001b[0;34m\u001b[0m\u001b[0m\n",
      "\u001b[0;32m~/landt/lib/python3.7/site-packages/tensorflow/python/framework/errors_impl.py\u001b[0m in \u001b[0;36m__exit__\u001b[0;34m(self, type_arg, value_arg, traceback_arg)\u001b[0m\n\u001b[1;32m    526\u001b[0m             \u001b[0;32mNone\u001b[0m\u001b[0;34m,\u001b[0m \u001b[0;32mNone\u001b[0m\u001b[0;34m,\u001b[0m\u001b[0;34m\u001b[0m\u001b[0;34m\u001b[0m\u001b[0m\n\u001b[1;32m    527\u001b[0m             \u001b[0mcompat\u001b[0m\u001b[0;34m.\u001b[0m\u001b[0mas_text\u001b[0m\u001b[0;34m(\u001b[0m\u001b[0mc_api\u001b[0m\u001b[0;34m.\u001b[0m\u001b[0mTF_Message\u001b[0m\u001b[0;34m(\u001b[0m\u001b[0mself\u001b[0m\u001b[0;34m.\u001b[0m\u001b[0mstatus\u001b[0m\u001b[0;34m.\u001b[0m\u001b[0mstatus\u001b[0m\u001b[0;34m)\u001b[0m\u001b[0;34m)\u001b[0m\u001b[0;34m,\u001b[0m\u001b[0;34m\u001b[0m\u001b[0;34m\u001b[0m\u001b[0m\n\u001b[0;32m--> 528\u001b[0;31m             c_api.TF_GetCode(self.status.status))\n\u001b[0m\u001b[1;32m    529\u001b[0m     \u001b[0;31m# Delete the underlying status object from memory otherwise it stays alive\u001b[0m\u001b[0;34m\u001b[0m\u001b[0;34m\u001b[0m\u001b[0;34m\u001b[0m\u001b[0m\n\u001b[1;32m    530\u001b[0m     \u001b[0;31m# as there is a reference to status from this from the traceback due to\u001b[0m\u001b[0;34m\u001b[0m\u001b[0;34m\u001b[0m\u001b[0;34m\u001b[0m\u001b[0m\n",
      "\u001b[0;31mFailedPreconditionError\u001b[0m: Attempting to use uninitialized value dense_2/bias\n\t [[{{node dense_2/bias/read}}]]\n\t [[{{node lambda_1/Sqrt}}]]"
     ]
    }
   ],
   "source": [
    "vs = cv2.VideoCapture(0); #get input from webcam\n",
    "dim1 = 64\n",
    "dim2 = 48\n",
    "import time\n",
    "fps = 0\n",
    "while True:\n",
    "    _,frame = vs.read();\n",
    "    start_time = time.time()\n",
    "    #u can certainly add a roi here but for the sake of a demo i'll just leave it as simple as this\n",
    "    rects, landmarks = face_detect.detect_face(frame,10);#min face size is set to 80x80\n",
    "    aligns = []\n",
    "    positions = []\n",
    "    new_rect = []\n",
    "\n",
    "    for (i, rect) in enumerate(rects):\n",
    "        aligned_face, face_pos = aligner.align(160,frame,landmarks[:,i])\n",
    "        img = cv2.resize(aligned_face,(dim1,dim2),interpolation=cv2.INTER_AREA)\n",
    "        img = cv2.cvtColor(img, cv2.COLOR_BGR2GRAY)\n",
    "        test_img = np.zeros([1, 2, 1, dim2, dim1])\n",
    "        test_img[0, 0, 0, :, :]= img/255\n",
    "        test  = np.broadcast_to(test_img[:,0], genuine[:,0].shape)\n",
    "        print(test.shape)\n",
    "        print(genuine[:,0].shape)\n",
    "        prediction = model.predict([test, genuine[:,0]])\n",
    "        minElement = np.amin(prediction)\n",
    "        print('Printing min Element',minElement)\n",
    "        e =  np.where(prediction == np.amin(prediction))\n",
    "        print('min element:', minElement)\n",
    "        print(labels[e[0][0]])\n",
    "        cv2.rectangle(frame,(rect[0],rect[1]),(rect[2],rect[3]),(255,0,0)) #draw bounding box for the face\n",
    "        cv2.putText(frame,str(labels[e[0][0]]),(rect[0],rect[1]),cv2.FONT_HERSHEY_SIMPLEX,1,(0,0,255),1,cv2.LINE_AA)\n",
    "\n",
    "    fps = (fps + (1. / (time.time() - start_time))) / 2\n",
    "    cv2.putText(frame, 'fps : %s' % (str(round(fps, 2))), (150, 20), 0, 5e-3 * 150,(255, 255, 255), 2)\n",
    "    cv2.imshow(\"Frame\",frame)\n",
    "    key = cv2.waitKey(1) & 0xFF\n",
    "    if key == ord(\"q\"):\n",
    "        break\n",
    "cv2.destroyAllWindows()"
   ]
  },
  {
   "cell_type": "code",
   "execution_count": null,
   "metadata": {},
   "outputs": [],
   "source": [
    "cv2.destroyAllWindows()"
   ]
  },
  {
   "cell_type": "code",
   "execution_count": null,
   "metadata": {},
   "outputs": [],
   "source": [
    "genuine[:,0].shape"
   ]
  },
  {
   "cell_type": "code",
   "execution_count": null,
   "metadata": {},
   "outputs": [],
   "source": [
    "print(os.path.abspath('1.py'))"
   ]
  },
  {
   "cell_type": "code",
   "execution_count": null,
   "metadata": {},
   "outputs": [],
   "source": [
    "labels"
   ]
  },
  {
   "cell_type": "code",
   "execution_count": null,
   "metadata": {},
   "outputs": [],
   "source": []
  }
 ],
 "metadata": {
  "kernelspec": {
   "display_name": "lnt",
   "language": "python",
   "name": "lnt"
  },
  "language_info": {
   "codemirror_mode": {
    "name": "ipython",
    "version": 3
   },
   "file_extension": ".py",
   "mimetype": "text/x-python",
   "name": "python",
   "nbconvert_exporter": "python",
   "pygments_lexer": "ipython3",
   "version": "3.6.9"
  }
 },
 "nbformat": 4,
 "nbformat_minor": 2
}
